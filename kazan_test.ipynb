{
  "nbformat": 4,
  "nbformat_minor": 0,
  "metadata": {
    "colab": {
      "provenance": [],
      "authorship_tag": "ABX9TyOjaGDo77buPjafsZOtbQvG",
      "include_colab_link": true
    },
    "kernelspec": {
      "name": "python3",
      "display_name": "Python 3"
    },
    "language_info": {
      "name": "python"
    }
  },
  "cells": [
    {
      "cell_type": "markdown",
      "metadata": {
        "id": "view-in-github",
        "colab_type": "text"
      },
      "source": [
        "<a href=\"https://colab.research.google.com/github/dessqa/dessqa/blob/main/kazan_test.ipynb\" target=\"_parent\"><img src=\"https://colab.research.google.com/assets/colab-badge.svg\" alt=\"Open In Colab\"/></a>"
      ]
    },
    {
      "cell_type": "code",
      "execution_count": 15,
      "metadata": {
        "id": "G4PQWOOyZVKb"
      },
      "outputs": [],
      "source": []
    },
    {
      "cell_type": "code",
      "source": [
        "from google.colab import drive\n",
        "drive.mount('/content/drive')"
      ],
      "metadata": {
        "colab": {
          "base_uri": "https://localhost:8080/"
        },
        "id": "ceMrdP_dZweo",
        "outputId": "5a50bdef-be55-4383-bf42-810b68cbfc3f"
      },
      "execution_count": 16,
      "outputs": [
        {
          "output_type": "stream",
          "name": "stdout",
          "text": [
            "Drive already mounted at /content/drive; to attempt to forcibly remount, call drive.mount(\"/content/drive\", force_remount=True).\n"
          ]
        }
      ]
    },
    {
      "cell_type": "code",
      "source": [
        "import pandas as pd\n",
        "import numpy as np\n",
        "from tqdm.auto import tqdm, trange \n",
        "import json\n",
        "import re"
      ],
      "metadata": {
        "id": "lyK1O_M7aXTq"
      },
      "execution_count": 17,
      "outputs": []
    },
    {
      "cell_type": "code",
      "source": [],
      "metadata": {
        "id": "wQlFtMK2bdXy"
      },
      "execution_count": 17,
      "outputs": []
    },
    {
      "cell_type": "code",
      "source": [
        "test_data = pd.read_parquet('/content/sample_data/test.parquet')"
      ],
      "metadata": {
        "id": "BbfE-qNAac6O"
      },
      "execution_count": 18,
      "outputs": []
    },
    {
      "cell_type": "code",
      "source": [
        "test_data.head()"
      ],
      "metadata": {
        "colab": {
          "base_uri": "https://localhost:8080/",
          "height": 206
        },
        "id": "9fNitIs6b_eP",
        "outputId": "85408236-0517-49df-fe61-19c025ca3cc3"
      },
      "execution_count": 19,
      "outputs": [
        {
          "output_type": "execute_result",
          "data": {
            "text/plain": [
              "   product_id   sale  shop_id       shop_title    rating  \\\n",
              "1     1997646  False    22758  Sky_Electronics  5.000000   \n",
              "2      927375  False    17729     Di-Di Market  4.405941   \n",
              "3     1921513  False    54327      VisionStore  4.000000   \n",
              "4     1668662  False    15000         FORNAILS  5.000000   \n",
              "5     1467778  False    39600        МОЯ КУХНЯ  5.000000   \n",
              "\n",
              "                                         text_fields  \n",
              "1  {\"title\": \"Светодиодная лента Smart led Strip ...  \n",
              "2  {\"title\": \"Стекло ПЛЕНКА керамик матовое Honor...  \n",
              "3  {\"title\": \"Проводные наушники с микрофоном jac...  \n",
              "4  {\"title\": \"Декоративная табличка \\\"Правила кух...  \n",
              "5  {\"title\": \"Подставка под ложку керамическая, п...  "
            ],
            "text/html": [
              "\n",
              "  <div id=\"df-46efffd5-f7aa-4a72-bd3c-0be7b63fe15d\">\n",
              "    <div class=\"colab-df-container\">\n",
              "      <div>\n",
              "<style scoped>\n",
              "    .dataframe tbody tr th:only-of-type {\n",
              "        vertical-align: middle;\n",
              "    }\n",
              "\n",
              "    .dataframe tbody tr th {\n",
              "        vertical-align: top;\n",
              "    }\n",
              "\n",
              "    .dataframe thead th {\n",
              "        text-align: right;\n",
              "    }\n",
              "</style>\n",
              "<table border=\"1\" class=\"dataframe\">\n",
              "  <thead>\n",
              "    <tr style=\"text-align: right;\">\n",
              "      <th></th>\n",
              "      <th>product_id</th>\n",
              "      <th>sale</th>\n",
              "      <th>shop_id</th>\n",
              "      <th>shop_title</th>\n",
              "      <th>rating</th>\n",
              "      <th>text_fields</th>\n",
              "    </tr>\n",
              "  </thead>\n",
              "  <tbody>\n",
              "    <tr>\n",
              "      <th>1</th>\n",
              "      <td>1997646</td>\n",
              "      <td>False</td>\n",
              "      <td>22758</td>\n",
              "      <td>Sky_Electronics</td>\n",
              "      <td>5.000000</td>\n",
              "      <td>{\"title\": \"Светодиодная лента Smart led Strip ...</td>\n",
              "    </tr>\n",
              "    <tr>\n",
              "      <th>2</th>\n",
              "      <td>927375</td>\n",
              "      <td>False</td>\n",
              "      <td>17729</td>\n",
              "      <td>Di-Di Market</td>\n",
              "      <td>4.405941</td>\n",
              "      <td>{\"title\": \"Стекло ПЛЕНКА керамик матовое Honor...</td>\n",
              "    </tr>\n",
              "    <tr>\n",
              "      <th>3</th>\n",
              "      <td>1921513</td>\n",
              "      <td>False</td>\n",
              "      <td>54327</td>\n",
              "      <td>VisionStore</td>\n",
              "      <td>4.000000</td>\n",
              "      <td>{\"title\": \"Проводные наушники с микрофоном jac...</td>\n",
              "    </tr>\n",
              "    <tr>\n",
              "      <th>4</th>\n",
              "      <td>1668662</td>\n",
              "      <td>False</td>\n",
              "      <td>15000</td>\n",
              "      <td>FORNAILS</td>\n",
              "      <td>5.000000</td>\n",
              "      <td>{\"title\": \"Декоративная табличка \\\"Правила кух...</td>\n",
              "    </tr>\n",
              "    <tr>\n",
              "      <th>5</th>\n",
              "      <td>1467778</td>\n",
              "      <td>False</td>\n",
              "      <td>39600</td>\n",
              "      <td>МОЯ КУХНЯ</td>\n",
              "      <td>5.000000</td>\n",
              "      <td>{\"title\": \"Подставка под ложку керамическая, п...</td>\n",
              "    </tr>\n",
              "  </tbody>\n",
              "</table>\n",
              "</div>\n",
              "      <button class=\"colab-df-convert\" onclick=\"convertToInteractive('df-46efffd5-f7aa-4a72-bd3c-0be7b63fe15d')\"\n",
              "              title=\"Convert this dataframe to an interactive table.\"\n",
              "              style=\"display:none;\">\n",
              "        \n",
              "  <svg xmlns=\"http://www.w3.org/2000/svg\" height=\"24px\"viewBox=\"0 0 24 24\"\n",
              "       width=\"24px\">\n",
              "    <path d=\"M0 0h24v24H0V0z\" fill=\"none\"/>\n",
              "    <path d=\"M18.56 5.44l.94 2.06.94-2.06 2.06-.94-2.06-.94-.94-2.06-.94 2.06-2.06.94zm-11 1L8.5 8.5l.94-2.06 2.06-.94-2.06-.94L8.5 2.5l-.94 2.06-2.06.94zm10 10l.94 2.06.94-2.06 2.06-.94-2.06-.94-.94-2.06-.94 2.06-2.06.94z\"/><path d=\"M17.41 7.96l-1.37-1.37c-.4-.4-.92-.59-1.43-.59-.52 0-1.04.2-1.43.59L10.3 9.45l-7.72 7.72c-.78.78-.78 2.05 0 2.83L4 21.41c.39.39.9.59 1.41.59.51 0 1.02-.2 1.41-.59l7.78-7.78 2.81-2.81c.8-.78.8-2.07 0-2.86zM5.41 20L4 18.59l7.72-7.72 1.47 1.35L5.41 20z\"/>\n",
              "  </svg>\n",
              "      </button>\n",
              "      \n",
              "  <style>\n",
              "    .colab-df-container {\n",
              "      display:flex;\n",
              "      flex-wrap:wrap;\n",
              "      gap: 12px;\n",
              "    }\n",
              "\n",
              "    .colab-df-convert {\n",
              "      background-color: #E8F0FE;\n",
              "      border: none;\n",
              "      border-radius: 50%;\n",
              "      cursor: pointer;\n",
              "      display: none;\n",
              "      fill: #1967D2;\n",
              "      height: 32px;\n",
              "      padding: 0 0 0 0;\n",
              "      width: 32px;\n",
              "    }\n",
              "\n",
              "    .colab-df-convert:hover {\n",
              "      background-color: #E2EBFA;\n",
              "      box-shadow: 0px 1px 2px rgba(60, 64, 67, 0.3), 0px 1px 3px 1px rgba(60, 64, 67, 0.15);\n",
              "      fill: #174EA6;\n",
              "    }\n",
              "\n",
              "    [theme=dark] .colab-df-convert {\n",
              "      background-color: #3B4455;\n",
              "      fill: #D2E3FC;\n",
              "    }\n",
              "\n",
              "    [theme=dark] .colab-df-convert:hover {\n",
              "      background-color: #434B5C;\n",
              "      box-shadow: 0px 1px 3px 1px rgba(0, 0, 0, 0.15);\n",
              "      filter: drop-shadow(0px 1px 2px rgba(0, 0, 0, 0.3));\n",
              "      fill: #FFFFFF;\n",
              "    }\n",
              "  </style>\n",
              "\n",
              "      <script>\n",
              "        const buttonEl =\n",
              "          document.querySelector('#df-46efffd5-f7aa-4a72-bd3c-0be7b63fe15d button.colab-df-convert');\n",
              "        buttonEl.style.display =\n",
              "          google.colab.kernel.accessAllowed ? 'block' : 'none';\n",
              "\n",
              "        async function convertToInteractive(key) {\n",
              "          const element = document.querySelector('#df-46efffd5-f7aa-4a72-bd3c-0be7b63fe15d');\n",
              "          const dataTable =\n",
              "            await google.colab.kernel.invokeFunction('convertToInteractive',\n",
              "                                                     [key], {});\n",
              "          if (!dataTable) return;\n",
              "\n",
              "          const docLinkHtml = 'Like what you see? Visit the ' +\n",
              "            '<a target=\"_blank\" href=https://colab.research.google.com/notebooks/data_table.ipynb>data table notebook</a>'\n",
              "            + ' to learn more about interactive tables.';\n",
              "          element.innerHTML = '';\n",
              "          dataTable['output_type'] = 'display_data';\n",
              "          await google.colab.output.renderOutput(dataTable, element);\n",
              "          const docLink = document.createElement('div');\n",
              "          docLink.innerHTML = docLinkHtml;\n",
              "          element.appendChild(docLink);\n",
              "        }\n",
              "      </script>\n",
              "    </div>\n",
              "  </div>\n",
              "  "
            ]
          },
          "metadata": {},
          "execution_count": 19
        }
      ]
    },
    {
      "cell_type": "code",
      "source": [
        "train_data = pd.read_parquet('/content/sample_data/train.parquet')"
      ],
      "metadata": {
        "id": "EIIkKSLKa2Y-"
      },
      "execution_count": 20,
      "outputs": []
    },
    {
      "cell_type": "code",
      "source": [
        "train_data.head()"
      ],
      "metadata": {
        "colab": {
          "base_uri": "https://localhost:8080/",
          "height": 250
        },
        "id": "zMpER9wRa_it",
        "outputId": "56f465af-f4bb-44f9-9641-0af50c5155a8"
      },
      "execution_count": 21,
      "outputs": [
        {
          "output_type": "execute_result",
          "data": {
            "text/plain": [
              "   product_id  category_id   sale  shop_id           shop_title  rating  \\\n",
              "0      325286        12171  False     9031                Aksik     5.0   \n",
              "1      888134        14233  False    18305                 Sela     5.0   \n",
              "3     1267173        13429  False    16357  ЮНЛАНДИЯ канцтовары     5.0   \n",
              "4     1416943         2789  False    34666        вася-nicotine     4.0   \n",
              "5     1058275        12834  False    26389           Lim Market     4.6   \n",
              "\n",
              "                                         text_fields  \\\n",
              "0  {\"title\": \"Зарядный кабель Borofone BX1 Lightn...   \n",
              "1  {\"title\": \"Трусы Sela\", \"description\": \"Трусы-...   \n",
              "3  {\"title\": \"Гуашь \\\"ЮНЫЙ ВОЛШЕБНИК\\\", 12 цветов...   \n",
              "4  {\"title\": \"Колба для кальяна Крафт (разные цве...   \n",
              "5  {\"title\": \"Пижама женская, однотонная с шортам...   \n",
              "\n",
              "                                       category_name  \n",
              "0  Все категории->Электроника->Смартфоны и телефо...  \n",
              "1  Все категории->Одежда->Женская одежда->Белье и...  \n",
              "3  Все категории->Хобби и творчество->Рисование->...  \n",
              "4  Все категории->Хобби и творчество->Товары для ...  \n",
              "5  Все категории->Одежда->Женская одежда->Домашня...  "
            ],
            "text/html": [
              "\n",
              "  <div id=\"df-6945402a-ff7e-4d9f-a057-768caa0a6cd0\">\n",
              "    <div class=\"colab-df-container\">\n",
              "      <div>\n",
              "<style scoped>\n",
              "    .dataframe tbody tr th:only-of-type {\n",
              "        vertical-align: middle;\n",
              "    }\n",
              "\n",
              "    .dataframe tbody tr th {\n",
              "        vertical-align: top;\n",
              "    }\n",
              "\n",
              "    .dataframe thead th {\n",
              "        text-align: right;\n",
              "    }\n",
              "</style>\n",
              "<table border=\"1\" class=\"dataframe\">\n",
              "  <thead>\n",
              "    <tr style=\"text-align: right;\">\n",
              "      <th></th>\n",
              "      <th>product_id</th>\n",
              "      <th>category_id</th>\n",
              "      <th>sale</th>\n",
              "      <th>shop_id</th>\n",
              "      <th>shop_title</th>\n",
              "      <th>rating</th>\n",
              "      <th>text_fields</th>\n",
              "      <th>category_name</th>\n",
              "    </tr>\n",
              "  </thead>\n",
              "  <tbody>\n",
              "    <tr>\n",
              "      <th>0</th>\n",
              "      <td>325286</td>\n",
              "      <td>12171</td>\n",
              "      <td>False</td>\n",
              "      <td>9031</td>\n",
              "      <td>Aksik</td>\n",
              "      <td>5.0</td>\n",
              "      <td>{\"title\": \"Зарядный кабель Borofone BX1 Lightn...</td>\n",
              "      <td>Все категории-&gt;Электроника-&gt;Смартфоны и телефо...</td>\n",
              "    </tr>\n",
              "    <tr>\n",
              "      <th>1</th>\n",
              "      <td>888134</td>\n",
              "      <td>14233</td>\n",
              "      <td>False</td>\n",
              "      <td>18305</td>\n",
              "      <td>Sela</td>\n",
              "      <td>5.0</td>\n",
              "      <td>{\"title\": \"Трусы Sela\", \"description\": \"Трусы-...</td>\n",
              "      <td>Все категории-&gt;Одежда-&gt;Женская одежда-&gt;Белье и...</td>\n",
              "    </tr>\n",
              "    <tr>\n",
              "      <th>3</th>\n",
              "      <td>1267173</td>\n",
              "      <td>13429</td>\n",
              "      <td>False</td>\n",
              "      <td>16357</td>\n",
              "      <td>ЮНЛАНДИЯ канцтовары</td>\n",
              "      <td>5.0</td>\n",
              "      <td>{\"title\": \"Гуашь \\\"ЮНЫЙ ВОЛШЕБНИК\\\", 12 цветов...</td>\n",
              "      <td>Все категории-&gt;Хобби и творчество-&gt;Рисование-&gt;...</td>\n",
              "    </tr>\n",
              "    <tr>\n",
              "      <th>4</th>\n",
              "      <td>1416943</td>\n",
              "      <td>2789</td>\n",
              "      <td>False</td>\n",
              "      <td>34666</td>\n",
              "      <td>вася-nicotine</td>\n",
              "      <td>4.0</td>\n",
              "      <td>{\"title\": \"Колба для кальяна Крафт (разные цве...</td>\n",
              "      <td>Все категории-&gt;Хобби и творчество-&gt;Товары для ...</td>\n",
              "    </tr>\n",
              "    <tr>\n",
              "      <th>5</th>\n",
              "      <td>1058275</td>\n",
              "      <td>12834</td>\n",
              "      <td>False</td>\n",
              "      <td>26389</td>\n",
              "      <td>Lim Market</td>\n",
              "      <td>4.6</td>\n",
              "      <td>{\"title\": \"Пижама женская, однотонная с шортам...</td>\n",
              "      <td>Все категории-&gt;Одежда-&gt;Женская одежда-&gt;Домашня...</td>\n",
              "    </tr>\n",
              "  </tbody>\n",
              "</table>\n",
              "</div>\n",
              "      <button class=\"colab-df-convert\" onclick=\"convertToInteractive('df-6945402a-ff7e-4d9f-a057-768caa0a6cd0')\"\n",
              "              title=\"Convert this dataframe to an interactive table.\"\n",
              "              style=\"display:none;\">\n",
              "        \n",
              "  <svg xmlns=\"http://www.w3.org/2000/svg\" height=\"24px\"viewBox=\"0 0 24 24\"\n",
              "       width=\"24px\">\n",
              "    <path d=\"M0 0h24v24H0V0z\" fill=\"none\"/>\n",
              "    <path d=\"M18.56 5.44l.94 2.06.94-2.06 2.06-.94-2.06-.94-.94-2.06-.94 2.06-2.06.94zm-11 1L8.5 8.5l.94-2.06 2.06-.94-2.06-.94L8.5 2.5l-.94 2.06-2.06.94zm10 10l.94 2.06.94-2.06 2.06-.94-2.06-.94-.94-2.06-.94 2.06-2.06.94z\"/><path d=\"M17.41 7.96l-1.37-1.37c-.4-.4-.92-.59-1.43-.59-.52 0-1.04.2-1.43.59L10.3 9.45l-7.72 7.72c-.78.78-.78 2.05 0 2.83L4 21.41c.39.39.9.59 1.41.59.51 0 1.02-.2 1.41-.59l7.78-7.78 2.81-2.81c.8-.78.8-2.07 0-2.86zM5.41 20L4 18.59l7.72-7.72 1.47 1.35L5.41 20z\"/>\n",
              "  </svg>\n",
              "      </button>\n",
              "      \n",
              "  <style>\n",
              "    .colab-df-container {\n",
              "      display:flex;\n",
              "      flex-wrap:wrap;\n",
              "      gap: 12px;\n",
              "    }\n",
              "\n",
              "    .colab-df-convert {\n",
              "      background-color: #E8F0FE;\n",
              "      border: none;\n",
              "      border-radius: 50%;\n",
              "      cursor: pointer;\n",
              "      display: none;\n",
              "      fill: #1967D2;\n",
              "      height: 32px;\n",
              "      padding: 0 0 0 0;\n",
              "      width: 32px;\n",
              "    }\n",
              "\n",
              "    .colab-df-convert:hover {\n",
              "      background-color: #E2EBFA;\n",
              "      box-shadow: 0px 1px 2px rgba(60, 64, 67, 0.3), 0px 1px 3px 1px rgba(60, 64, 67, 0.15);\n",
              "      fill: #174EA6;\n",
              "    }\n",
              "\n",
              "    [theme=dark] .colab-df-convert {\n",
              "      background-color: #3B4455;\n",
              "      fill: #D2E3FC;\n",
              "    }\n",
              "\n",
              "    [theme=dark] .colab-df-convert:hover {\n",
              "      background-color: #434B5C;\n",
              "      box-shadow: 0px 1px 3px 1px rgba(0, 0, 0, 0.15);\n",
              "      filter: drop-shadow(0px 1px 2px rgba(0, 0, 0, 0.3));\n",
              "      fill: #FFFFFF;\n",
              "    }\n",
              "  </style>\n",
              "\n",
              "      <script>\n",
              "        const buttonEl =\n",
              "          document.querySelector('#df-6945402a-ff7e-4d9f-a057-768caa0a6cd0 button.colab-df-convert');\n",
              "        buttonEl.style.display =\n",
              "          google.colab.kernel.accessAllowed ? 'block' : 'none';\n",
              "\n",
              "        async function convertToInteractive(key) {\n",
              "          const element = document.querySelector('#df-6945402a-ff7e-4d9f-a057-768caa0a6cd0');\n",
              "          const dataTable =\n",
              "            await google.colab.kernel.invokeFunction('convertToInteractive',\n",
              "                                                     [key], {});\n",
              "          if (!dataTable) return;\n",
              "\n",
              "          const docLinkHtml = 'Like what you see? Visit the ' +\n",
              "            '<a target=\"_blank\" href=https://colab.research.google.com/notebooks/data_table.ipynb>data table notebook</a>'\n",
              "            + ' to learn more about interactive tables.';\n",
              "          element.innerHTML = '';\n",
              "          dataTable['output_type'] = 'display_data';\n",
              "          await google.colab.output.renderOutput(dataTable, element);\n",
              "          const docLink = document.createElement('div');\n",
              "          docLink.innerHTML = docLinkHtml;\n",
              "          element.appendChild(docLink);\n",
              "        }\n",
              "      </script>\n",
              "    </div>\n",
              "  </div>\n",
              "  "
            ]
          },
          "metadata": {},
          "execution_count": 21
        }
      ]
    },
    {
      "cell_type": "code",
      "source": [
        "# Функция пробразования столбца text_fields в столбцы трейна\n",
        "def str_to_df(df):\n",
        "    var = df.text_fields                                                    # Нужный столбец\n",
        "    var = var.apply(lambda x: json.loads(x))                                # Прогоняем через json.loads\n",
        "    var = var.apply(pd.Series)                                              # Преобразуем в серию\n",
        "    final_df = pd.concat([df,var],axis=1).drop('text_fields',axis=1)        # Склеиваем\n",
        "    return final_df"
      ],
      "metadata": {
        "id": "2kjdDDUudt9V"
      },
      "execution_count": 22,
      "outputs": []
    },
    {
      "cell_type": "code",
      "source": [
        "train_data.shape"
      ],
      "metadata": {
        "colab": {
          "base_uri": "https://localhost:8080/"
        },
        "id": "WRdnoe4Bg8Sf",
        "outputId": "1d6be4b9-80be-43b1-c372-2d91e4ad5ebe"
      },
      "execution_count": 23,
      "outputs": [
        {
          "output_type": "execute_result",
          "data": {
            "text/plain": [
              "(91120, 8)"
            ]
          },
          "metadata": {},
          "execution_count": 23
        }
      ]
    },
    {
      "cell_type": "code",
      "source": [
        "test_data.shape"
      ],
      "metadata": {
        "colab": {
          "base_uri": "https://localhost:8080/"
        },
        "id": "L0uGe-vyg_Ix",
        "outputId": "ab3d5de6-c098-4040-8bf3-e85f42a30fce"
      },
      "execution_count": 24,
      "outputs": [
        {
          "output_type": "execute_result",
          "data": {
            "text/plain": [
              "(16860, 6)"
            ]
          },
          "metadata": {},
          "execution_count": 24
        }
      ]
    },
    {
      "cell_type": "code",
      "source": [
        "final_train_data = str_to_df(train_data)"
      ],
      "metadata": {
        "id": "Gr-zk-EIeECi"
      },
      "execution_count": 25,
      "outputs": []
    },
    {
      "cell_type": "code",
      "source": [
        "final_train_data.head()"
      ],
      "metadata": {
        "colab": {
          "base_uri": "https://localhost:8080/",
          "height": 617
        },
        "id": "75igEUcOeDl9",
        "outputId": "9ad1126d-08aa-46d3-c5c5-d9c21e2a3c12"
      },
      "execution_count": 26,
      "outputs": [
        {
          "output_type": "execute_result",
          "data": {
            "text/plain": [
              "   product_id  category_id   sale  shop_id           shop_title  rating  \\\n",
              "0      325286        12171  False     9031                Aksik     5.0   \n",
              "1      888134        14233  False    18305                 Sela     5.0   \n",
              "3     1267173        13429  False    16357  ЮНЛАНДИЯ канцтовары     5.0   \n",
              "4     1416943         2789  False    34666        вася-nicotine     4.0   \n",
              "5     1058275        12834  False    26389           Lim Market     4.6   \n",
              "\n",
              "                                       category_name  \\\n",
              "0  Все категории->Электроника->Смартфоны и телефо...   \n",
              "1  Все категории->Одежда->Женская одежда->Белье и...   \n",
              "3  Все категории->Хобби и творчество->Рисование->...   \n",
              "4  Все категории->Хобби и творчество->Товары для ...   \n",
              "5  Все категории->Одежда->Женская одежда->Домашня...   \n",
              "\n",
              "                                               title  \\\n",
              "0  Зарядный кабель Borofone BX1 Lightning для айф...   \n",
              "1                                         Трусы Sela   \n",
              "3  Гуашь \"ЮНЫЙ ВОЛШЕБНИК\", 12 цветов по 35 мл, БО...   \n",
              "4             Колба для кальяна Крафт (разные цвета)   \n",
              "5               Пижама женская, однотонная с шортами   \n",
              "\n",
              "                                         description  \\\n",
              "0  <p><span style=\"background-color: transparent;...   \n",
              "1  Трусы-слипы из эластичного бесшовного трикотаж...   \n",
              "3  <p>Гуашь высшего качества ЮНЛАНДИЯ поможет соз...   \n",
              "4  <p><span style=\"color: rgb(149, 151, 153);\">Ун...   \n",
              "5  <p>Лёгкая ткань! Комфортная посадка! Идеальная...   \n",
              "\n",
              "                                          attributes custom_characteristics  \\\n",
              "0  [Длина: 1м, Разъем: Lightning, Подерживает быс...                     {}   \n",
              "1                                                 []                     {}   \n",
              "3                                                 []                     {}   \n",
              "4  [Материал: стекло, Внутренний диаметр: 45 мм ,...                     {}   \n",
              "5                                                 []                     {}   \n",
              "\n",
              "                             defined_characteristics  \\\n",
              "0                      {'Цвет': ['Черный', 'Белый']}   \n",
              "1                           {'Размер одежды': ['S']}   \n",
              "3                                                 {}   \n",
              "4  {'Цвет': ['Хром', 'Розовый', 'Желтый', 'Прозра...   \n",
              "5  {'Размер одежды': ['XXXL', 'L', 'XXL', 'XL'], ...   \n",
              "\n",
              "                                             filters  \n",
              "0                      {'Цвет': ['Белый', 'Черный']}  \n",
              "1        {'Бренд': ['Sela'], 'Размер одежды': ['S']}  \n",
              "3                            {'Бренд': ['Юнландия']}  \n",
              "4  {'Цвет': ['Прозрачный', 'Желтый', 'Синий', 'Ро...  \n",
              "5  {'Цвет': ['Белый', 'Белый', 'Белый', 'Белый'],...  "
            ],
            "text/html": [
              "\n",
              "  <div id=\"df-3bf35ec8-65e9-4717-b37a-974ed3b72e44\">\n",
              "    <div class=\"colab-df-container\">\n",
              "      <div>\n",
              "<style scoped>\n",
              "    .dataframe tbody tr th:only-of-type {\n",
              "        vertical-align: middle;\n",
              "    }\n",
              "\n",
              "    .dataframe tbody tr th {\n",
              "        vertical-align: top;\n",
              "    }\n",
              "\n",
              "    .dataframe thead th {\n",
              "        text-align: right;\n",
              "    }\n",
              "</style>\n",
              "<table border=\"1\" class=\"dataframe\">\n",
              "  <thead>\n",
              "    <tr style=\"text-align: right;\">\n",
              "      <th></th>\n",
              "      <th>product_id</th>\n",
              "      <th>category_id</th>\n",
              "      <th>sale</th>\n",
              "      <th>shop_id</th>\n",
              "      <th>shop_title</th>\n",
              "      <th>rating</th>\n",
              "      <th>category_name</th>\n",
              "      <th>title</th>\n",
              "      <th>description</th>\n",
              "      <th>attributes</th>\n",
              "      <th>custom_characteristics</th>\n",
              "      <th>defined_characteristics</th>\n",
              "      <th>filters</th>\n",
              "    </tr>\n",
              "  </thead>\n",
              "  <tbody>\n",
              "    <tr>\n",
              "      <th>0</th>\n",
              "      <td>325286</td>\n",
              "      <td>12171</td>\n",
              "      <td>False</td>\n",
              "      <td>9031</td>\n",
              "      <td>Aksik</td>\n",
              "      <td>5.0</td>\n",
              "      <td>Все категории-&gt;Электроника-&gt;Смартфоны и телефо...</td>\n",
              "      <td>Зарядный кабель Borofone BX1 Lightning для айф...</td>\n",
              "      <td>&lt;p&gt;&lt;span style=\"background-color: transparent;...</td>\n",
              "      <td>[Длина: 1м, Разъем: Lightning, Подерживает быс...</td>\n",
              "      <td>{}</td>\n",
              "      <td>{'Цвет': ['Черный', 'Белый']}</td>\n",
              "      <td>{'Цвет': ['Белый', 'Черный']}</td>\n",
              "    </tr>\n",
              "    <tr>\n",
              "      <th>1</th>\n",
              "      <td>888134</td>\n",
              "      <td>14233</td>\n",
              "      <td>False</td>\n",
              "      <td>18305</td>\n",
              "      <td>Sela</td>\n",
              "      <td>5.0</td>\n",
              "      <td>Все категории-&gt;Одежда-&gt;Женская одежда-&gt;Белье и...</td>\n",
              "      <td>Трусы Sela</td>\n",
              "      <td>Трусы-слипы из эластичного бесшовного трикотаж...</td>\n",
              "      <td>[]</td>\n",
              "      <td>{}</td>\n",
              "      <td>{'Размер одежды': ['S']}</td>\n",
              "      <td>{'Бренд': ['Sela'], 'Размер одежды': ['S']}</td>\n",
              "    </tr>\n",
              "    <tr>\n",
              "      <th>3</th>\n",
              "      <td>1267173</td>\n",
              "      <td>13429</td>\n",
              "      <td>False</td>\n",
              "      <td>16357</td>\n",
              "      <td>ЮНЛАНДИЯ канцтовары</td>\n",
              "      <td>5.0</td>\n",
              "      <td>Все категории-&gt;Хобби и творчество-&gt;Рисование-&gt;...</td>\n",
              "      <td>Гуашь \"ЮНЫЙ ВОЛШЕБНИК\", 12 цветов по 35 мл, БО...</td>\n",
              "      <td>&lt;p&gt;Гуашь высшего качества ЮНЛАНДИЯ поможет соз...</td>\n",
              "      <td>[]</td>\n",
              "      <td>{}</td>\n",
              "      <td>{}</td>\n",
              "      <td>{'Бренд': ['Юнландия']}</td>\n",
              "    </tr>\n",
              "    <tr>\n",
              "      <th>4</th>\n",
              "      <td>1416943</td>\n",
              "      <td>2789</td>\n",
              "      <td>False</td>\n",
              "      <td>34666</td>\n",
              "      <td>вася-nicotine</td>\n",
              "      <td>4.0</td>\n",
              "      <td>Все категории-&gt;Хобби и творчество-&gt;Товары для ...</td>\n",
              "      <td>Колба для кальяна Крафт (разные цвета)</td>\n",
              "      <td>&lt;p&gt;&lt;span style=\"color: rgb(149, 151, 153);\"&gt;Ун...</td>\n",
              "      <td>[Материал: стекло, Внутренний диаметр: 45 мм ,...</td>\n",
              "      <td>{}</td>\n",
              "      <td>{'Цвет': ['Хром', 'Розовый', 'Желтый', 'Прозра...</td>\n",
              "      <td>{'Цвет': ['Прозрачный', 'Желтый', 'Синий', 'Ро...</td>\n",
              "    </tr>\n",
              "    <tr>\n",
              "      <th>5</th>\n",
              "      <td>1058275</td>\n",
              "      <td>12834</td>\n",
              "      <td>False</td>\n",
              "      <td>26389</td>\n",
              "      <td>Lim Market</td>\n",
              "      <td>4.6</td>\n",
              "      <td>Все категории-&gt;Одежда-&gt;Женская одежда-&gt;Домашня...</td>\n",
              "      <td>Пижама женская, однотонная с шортами</td>\n",
              "      <td>&lt;p&gt;Лёгкая ткань! Комфортная посадка! Идеальная...</td>\n",
              "      <td>[]</td>\n",
              "      <td>{}</td>\n",
              "      <td>{'Размер одежды': ['XXXL', 'L', 'XXL', 'XL'], ...</td>\n",
              "      <td>{'Цвет': ['Белый', 'Белый', 'Белый', 'Белый'],...</td>\n",
              "    </tr>\n",
              "  </tbody>\n",
              "</table>\n",
              "</div>\n",
              "      <button class=\"colab-df-convert\" onclick=\"convertToInteractive('df-3bf35ec8-65e9-4717-b37a-974ed3b72e44')\"\n",
              "              title=\"Convert this dataframe to an interactive table.\"\n",
              "              style=\"display:none;\">\n",
              "        \n",
              "  <svg xmlns=\"http://www.w3.org/2000/svg\" height=\"24px\"viewBox=\"0 0 24 24\"\n",
              "       width=\"24px\">\n",
              "    <path d=\"M0 0h24v24H0V0z\" fill=\"none\"/>\n",
              "    <path d=\"M18.56 5.44l.94 2.06.94-2.06 2.06-.94-2.06-.94-.94-2.06-.94 2.06-2.06.94zm-11 1L8.5 8.5l.94-2.06 2.06-.94-2.06-.94L8.5 2.5l-.94 2.06-2.06.94zm10 10l.94 2.06.94-2.06 2.06-.94-2.06-.94-.94-2.06-.94 2.06-2.06.94z\"/><path d=\"M17.41 7.96l-1.37-1.37c-.4-.4-.92-.59-1.43-.59-.52 0-1.04.2-1.43.59L10.3 9.45l-7.72 7.72c-.78.78-.78 2.05 0 2.83L4 21.41c.39.39.9.59 1.41.59.51 0 1.02-.2 1.41-.59l7.78-7.78 2.81-2.81c.8-.78.8-2.07 0-2.86zM5.41 20L4 18.59l7.72-7.72 1.47 1.35L5.41 20z\"/>\n",
              "  </svg>\n",
              "      </button>\n",
              "      \n",
              "  <style>\n",
              "    .colab-df-container {\n",
              "      display:flex;\n",
              "      flex-wrap:wrap;\n",
              "      gap: 12px;\n",
              "    }\n",
              "\n",
              "    .colab-df-convert {\n",
              "      background-color: #E8F0FE;\n",
              "      border: none;\n",
              "      border-radius: 50%;\n",
              "      cursor: pointer;\n",
              "      display: none;\n",
              "      fill: #1967D2;\n",
              "      height: 32px;\n",
              "      padding: 0 0 0 0;\n",
              "      width: 32px;\n",
              "    }\n",
              "\n",
              "    .colab-df-convert:hover {\n",
              "      background-color: #E2EBFA;\n",
              "      box-shadow: 0px 1px 2px rgba(60, 64, 67, 0.3), 0px 1px 3px 1px rgba(60, 64, 67, 0.15);\n",
              "      fill: #174EA6;\n",
              "    }\n",
              "\n",
              "    [theme=dark] .colab-df-convert {\n",
              "      background-color: #3B4455;\n",
              "      fill: #D2E3FC;\n",
              "    }\n",
              "\n",
              "    [theme=dark] .colab-df-convert:hover {\n",
              "      background-color: #434B5C;\n",
              "      box-shadow: 0px 1px 3px 1px rgba(0, 0, 0, 0.15);\n",
              "      filter: drop-shadow(0px 1px 2px rgba(0, 0, 0, 0.3));\n",
              "      fill: #FFFFFF;\n",
              "    }\n",
              "  </style>\n",
              "\n",
              "      <script>\n",
              "        const buttonEl =\n",
              "          document.querySelector('#df-3bf35ec8-65e9-4717-b37a-974ed3b72e44 button.colab-df-convert');\n",
              "        buttonEl.style.display =\n",
              "          google.colab.kernel.accessAllowed ? 'block' : 'none';\n",
              "\n",
              "        async function convertToInteractive(key) {\n",
              "          const element = document.querySelector('#df-3bf35ec8-65e9-4717-b37a-974ed3b72e44');\n",
              "          const dataTable =\n",
              "            await google.colab.kernel.invokeFunction('convertToInteractive',\n",
              "                                                     [key], {});\n",
              "          if (!dataTable) return;\n",
              "\n",
              "          const docLinkHtml = 'Like what you see? Visit the ' +\n",
              "            '<a target=\"_blank\" href=https://colab.research.google.com/notebooks/data_table.ipynb>data table notebook</a>'\n",
              "            + ' to learn more about interactive tables.';\n",
              "          element.innerHTML = '';\n",
              "          dataTable['output_type'] = 'display_data';\n",
              "          await google.colab.output.renderOutput(dataTable, element);\n",
              "          const docLink = document.createElement('div');\n",
              "          docLink.innerHTML = docLinkHtml;\n",
              "          element.appendChild(docLink);\n",
              "        }\n",
              "      </script>\n",
              "    </div>\n",
              "  </div>\n",
              "  "
            ]
          },
          "metadata": {},
          "execution_count": 26
        }
      ]
    },
    {
      "cell_type": "code",
      "source": [],
      "metadata": {
        "id": "KDL_RmmJeeq0"
      },
      "execution_count": 26,
      "outputs": []
    },
    {
      "cell_type": "markdown",
      "source": [
        "Преобразуем столбец category_name в строку без спец символов"
      ],
      "metadata": {
        "id": "z3-VUDWNew8r"
      }
    },
    {
      "cell_type": "code",
      "source": [
        "# final_train_data_copy = final_train_data.copy()"
      ],
      "metadata": {
        "id": "M7r-_x3ogRXR"
      },
      "execution_count": 27,
      "outputs": []
    },
    {
      "cell_type": "code",
      "source": [
        "# final_train_data_copy['category_name'] = final_train_data_copy['category_name'].apply(lambda x: ' '.join(x.replace('Все категории->','').split('->')))"
      ],
      "metadata": {
        "id": "Uw3_Lg85e3He"
      },
      "execution_count": 28,
      "outputs": []
    },
    {
      "cell_type": "code",
      "source": [
        "# final_train_data_copy['category_name'][0]"
      ],
      "metadata": {
        "id": "DEhiMyNEfZNM"
      },
      "execution_count": 29,
      "outputs": []
    },
    {
      "cell_type": "code",
      "source": [
        "# final_train_data_copy.head(8)"
      ],
      "metadata": {
        "id": "KQKD7ifEfQMl"
      },
      "execution_count": 30,
      "outputs": []
    },
    {
      "cell_type": "code",
      "source": [],
      "metadata": {
        "id": "HX0qKozioJHv"
      },
      "execution_count": 30,
      "outputs": []
    },
    {
      "cell_type": "code",
      "source": [],
      "metadata": {
        "id": "WRzLEypxfTLd"
      },
      "execution_count": 30,
      "outputs": []
    },
    {
      "cell_type": "code",
      "source": [],
      "metadata": {
        "id": "zs_IU3j-k1Dp"
      },
      "execution_count": 30,
      "outputs": []
    },
    {
      "cell_type": "markdown",
      "source": [
        "Столбец с названием обрабатываем от знаков препинания"
      ],
      "metadata": {
        "id": "9HDPg_5Rhi9q"
      }
    },
    {
      "cell_type": "code",
      "source": [
        "# final_train_data_copy['title'] = final_train_data['title'].apply(lambda x: re.sub(r'[^\\w\\s]','', x))"
      ],
      "metadata": {
        "id": "gcz1TGSrhm6O"
      },
      "execution_count": 31,
      "outputs": []
    },
    {
      "cell_type": "markdown",
      "source": [
        "Столбец с описанием содержит теги html, удалим их. далее посмотрим что останется"
      ],
      "metadata": {
        "id": "llKKidAkiL_0"
      }
    },
    {
      "cell_type": "code",
      "source": [
        "# final_train_data_copy['description'] = final_train_data_copy['description'].apply(lambda x: ' '.join(re.findall(r'[А-Яа-я]+', x)))"
      ],
      "metadata": {
        "id": "4NeXqOAojBN1"
      },
      "execution_count": 32,
      "outputs": []
    },
    {
      "cell_type": "markdown",
      "source": [
        "Столбец с атрибутами содержит данные о размерах изделия"
      ],
      "metadata": {
        "id": "Ywu4-wRijfVg"
      }
    },
    {
      "cell_type": "code",
      "source": [
        "# final_train_data_copy['attributes'][0]        "
      ],
      "metadata": {
        "id": "yRzl7fkoiIml"
      },
      "execution_count": 33,
      "outputs": []
    },
    {
      "cell_type": "code",
      "source": [
        "# final_train_data_copy['attributes'] = final_train_data['attributes']"
      ],
      "metadata": {
        "id": "ATpQV2N-kdgV"
      },
      "execution_count": 34,
      "outputs": []
    },
    {
      "cell_type": "code",
      "source": [
        "# final_train_data_copy['attributes'] = final_train_data_copy['attributes'].apply(lambda x: ' '.join(x).replace(': ', ' '))"
      ],
      "metadata": {
        "id": "tAcGdUpuinzt"
      },
      "execution_count": 35,
      "outputs": []
    },
    {
      "cell_type": "code",
      "source": [
        "# final_train_data_copy['attributes'].shape[0] - (final_train_data_copy['attributes'].loc[final_train_data_copy['attributes'] != '']).shape[0]"
      ],
      "metadata": {
        "id": "DuoKcodUpviK"
      },
      "execution_count": 36,
      "outputs": []
    },
    {
      "cell_type": "markdown",
      "source": [
        "Пропусков < 1/3, заполним их словом Отсутствуют"
      ],
      "metadata": {
        "id": "LVbHGZ6Bp0p8"
      }
    },
    {
      "cell_type": "code",
      "source": [
        "# final_train_data_copy['attributes']"
      ],
      "metadata": {
        "id": "RN9UQ5g0kTNl"
      },
      "execution_count": 37,
      "outputs": []
    },
    {
      "cell_type": "code",
      "source": [
        "# for i in final_train_data_copy['attributes'].index:\n",
        "#     if final_train_data_copy['attributes'][i] == '':\n",
        "#         final_train_data_copy['attributes'][i] = 'Отсутствуют'\n",
        "#     else:\n",
        "#         continue"
      ],
      "metadata": {
        "id": "pfJiJuk1qJrw"
      },
      "execution_count": 38,
      "outputs": []
    },
    {
      "cell_type": "code",
      "source": [
        "# final_train_data_copy['attributes']"
      ],
      "metadata": {
        "id": "8EmM3QrbraHp"
      },
      "execution_count": 39,
      "outputs": []
    },
    {
      "cell_type": "markdown",
      "source": [
        "Столбец custom_characteristics выглядит пустым, проверим"
      ],
      "metadata": {
        "id": "f9sRxbwok2iy"
      }
    },
    {
      "cell_type": "code",
      "source": [
        "# final_train_data_copy['custom_characteristics'].loc[final_train_data_copy['custom_characteristics'] != {}]"
      ],
      "metadata": {
        "id": "y2vSUZ_skUtd"
      },
      "execution_count": 40,
      "outputs": []
    },
    {
      "cell_type": "code",
      "source": [
        "# final_train_data_copy['custom_characteristics'][7]"
      ],
      "metadata": {
        "id": "dLa7RYDLlJ0t"
      },
      "execution_count": 41,
      "outputs": []
    },
    {
      "cell_type": "markdown",
      "source": [
        "Не будем использовать столбец custom_characteristics и filters, слишком много пропусков и данные разношерстные"
      ],
      "metadata": {
        "id": "0b2UbW2Rn5_J"
      }
    },
    {
      "cell_type": "code",
      "source": [
        "# del final_train_data_copy['custom_characteristics']"
      ],
      "metadata": {
        "id": "7Uxg2RPEnwuV"
      },
      "execution_count": 42,
      "outputs": []
    },
    {
      "cell_type": "code",
      "source": [
        "# del final_train_data_copy['filters']"
      ],
      "metadata": {
        "id": "oJrLwBkNoDWV"
      },
      "execution_count": 43,
      "outputs": []
    },
    {
      "cell_type": "code",
      "source": [
        "# final_train_data_copy.head()"
      ],
      "metadata": {
        "id": "fj1HdmquoUTs"
      },
      "execution_count": 44,
      "outputs": []
    },
    {
      "cell_type": "markdown",
      "source": [
        "Очистим столбец defined_characteristics"
      ],
      "metadata": {
        "id": "gVl48Va7oe35"
      }
    },
    {
      "cell_type": "code",
      "source": [
        "# final_train_data_copy['defined_characteristics'] = final_train_data['defined_characteristics'].apply(lambda x: re.sub(r'[^\\w\\s]','', str(x)))"
      ],
      "metadata": {
        "id": "gFQzltpfoWDt"
      },
      "execution_count": 45,
      "outputs": []
    },
    {
      "cell_type": "code",
      "source": [
        "# final_train_data_copy['defined_characteristics']"
      ],
      "metadata": {
        "id": "CUZvPlM0omyF"
      },
      "execution_count": 46,
      "outputs": []
    },
    {
      "cell_type": "code",
      "source": [
        "# final_train_data_copy['defined_characteristics'].shape[0] - (final_train_data_copy['defined_characteristics'].loc[final_train_data_copy['defined_characteristics'] != '']).shape[0]"
      ],
      "metadata": {
        "id": "zGIzLFHDovJ9"
      },
      "execution_count": 47,
      "outputs": []
    },
    {
      "cell_type": "markdown",
      "source": [
        "Пропусков в столбике тоже больше 2/3. Удаляем"
      ],
      "metadata": {
        "id": "dSyt-sMvpigU"
      }
    },
    {
      "cell_type": "code",
      "source": [
        "# del final_train_data_copy['defined_characteristics']"
      ],
      "metadata": {
        "id": "kkfCQjo7pKsF"
      },
      "execution_count": 48,
      "outputs": []
    },
    {
      "cell_type": "code",
      "source": [
        "# final_train_data_copy.head()"
      ],
      "metadata": {
        "colab": {
          "base_uri": "https://localhost:8080/",
          "height": 171
        },
        "id": "pz8HPBsepoMl",
        "outputId": "21721344-e726-4e9e-c4c9-3c67cc94a771"
      },
      "execution_count": 50,
      "outputs": [
        {
          "output_type": "error",
          "ename": "NameError",
          "evalue": "ignored",
          "traceback": [
            "\u001b[0;31m---------------------------------------------------------------------------\u001b[0m",
            "\u001b[0;31mNameError\u001b[0m                                 Traceback (most recent call last)",
            "\u001b[0;32m<ipython-input-50-b763cc3cfa78>\u001b[0m in \u001b[0;36m<module>\u001b[0;34m\u001b[0m\n\u001b[0;32m----> 1\u001b[0;31m \u001b[0mfinal_train_data_copy\u001b[0m\u001b[0;34m.\u001b[0m\u001b[0mhead\u001b[0m\u001b[0;34m(\u001b[0m\u001b[0;34m)\u001b[0m\u001b[0;34m\u001b[0m\u001b[0;34m\u001b[0m\u001b[0m\n\u001b[0m",
            "\u001b[0;31mNameError\u001b[0m: name 'final_train_data_copy' is not defined"
          ]
        }
      ]
    },
    {
      "cell_type": "code",
      "source": [
        "def obrabotka(df):\n",
        "    final_train_data_copy = df.copy()\n",
        "    try:\n",
        "        final_train_data_copy['category_name'] = final_train_data_copy['category_name'].apply(lambda x: ' '.join(x.replace('Все категории->','').split('->')))\n",
        "    except:\n",
        "        print('Takogo stolbca net!')\n",
        "    finally:\n",
        "        final_train_data_copy['title'] = final_train_data_copy['title'].apply(lambda x: re.sub(r'[^\\w\\s]','', x))\n",
        "        final_train_data_copy['description'] = final_train_data_copy['description'].apply(lambda x: ' '.join(re.findall(r'[А-Яа-яеЕёЁ]+', x)))\n",
        "        final_train_data_copy['attributes'] = final_train_data_copy['attributes'].apply(lambda x: ' '.join(x).replace(': ', ' '))\n",
        "        \n",
        "        for i in final_train_data_copy['attributes'].index:\n",
        "            if final_train_data_copy['attributes'][i] == '':\n",
        "                final_train_data_copy['attributes'][i] = 'Отсутствуют'\n",
        "            else:\n",
        "                continue\n",
        "\n",
        "        del final_train_data_copy['custom_characteristics']\n",
        "        del final_train_data_copy['filters']\n",
        "        del final_train_data_copy['defined_characteristics']\n",
        "\n",
        "    return final_train_data_copy"
      ],
      "metadata": {
        "id": "MKJdx-Leppsd"
      },
      "execution_count": 76,
      "outputs": []
    },
    {
      "cell_type": "code",
      "source": [
        "df_train = str_to_df(train_data)"
      ],
      "metadata": {
        "id": "Tbm8MVsks04a"
      },
      "execution_count": 52,
      "outputs": []
    },
    {
      "cell_type": "code",
      "source": [
        "df_train_final = obrabotka(df_train)"
      ],
      "metadata": {
        "colab": {
          "base_uri": "https://localhost:8080/"
        },
        "id": "LbWYLEwHsjld",
        "outputId": "0693f278-c1d3-4fbf-bf07-a49f082b2354"
      },
      "execution_count": 53,
      "outputs": [
        {
          "output_type": "stream",
          "name": "stderr",
          "text": [
            "<ipython-input-51-765f82a05328>:10: SettingWithCopyWarning: \n",
            "A value is trying to be set on a copy of a slice from a DataFrame\n",
            "\n",
            "See the caveats in the documentation: https://pandas.pydata.org/pandas-docs/stable/user_guide/indexing.html#returning-a-view-versus-a-copy\n",
            "  final_train_data_copy['attributes'][i] = 'Отсутствуют'\n"
          ]
        }
      ]
    },
    {
      "cell_type": "code",
      "source": [
        "df_train_final.head()"
      ],
      "metadata": {
        "colab": {
          "base_uri": "https://localhost:8080/",
          "height": 371
        },
        "id": "E7stJJO8sn3N",
        "outputId": "d5e9922e-0c59-47f8-df64-282bba097015"
      },
      "execution_count": 54,
      "outputs": [
        {
          "output_type": "execute_result",
          "data": {
            "text/plain": [
              "   product_id  category_id   sale  shop_id           shop_title  rating  \\\n",
              "0      325286        12171  False     9031                Aksik     5.0   \n",
              "1      888134        14233  False    18305                 Sela     5.0   \n",
              "3     1267173        13429  False    16357  ЮНЛАНДИЯ канцтовары     5.0   \n",
              "4     1416943         2789  False    34666        вася-nicotine     4.0   \n",
              "5     1058275        12834  False    26389           Lim Market     4.6   \n",
              "\n",
              "                                       category_name  \\\n",
              "0  Электроника Смартфоны и телефоны Аксессуары и ...   \n",
              "1     Одежда Женская одежда Белье и купальники Трусы   \n",
              "3      Хобби и творчество Рисование Краски, пигменты   \n",
              "4  Хобби и творчество Товары для курения Кальяны ...   \n",
              "5       Одежда Женская одежда Домашняя одежда Пижамы   \n",
              "\n",
              "                                               title  \\\n",
              "0  Зарядный кабель Borofone BX1 Lightning для айф...   \n",
              "1                                         Трусы Sela   \n",
              "3  Гуашь ЮНЫЙ ВОЛШЕБНИК 12 цветов по 35 мл БОЛЬШИ...   \n",
              "4               Колба для кальяна Крафт разные цвета   \n",
              "5                Пижама женская однотонная с шортами   \n",
              "\n",
              "                                         description  \\\n",
              "0  Зарядный кабель подходит для зарядки всех гадж...   \n",
              "1  Трусы слипы из эластичного бесшовного трикотаж...   \n",
              "3  Гуашь высшего качества ЮНЛАНДИЯ поможет создат...   \n",
              "4  Универсальная колба для кальяна подходит почти...   \n",
              "5  Лёгкая ткань Комфортная посадка Идеальная длин...   \n",
              "\n",
              "                                          attributes  \n",
              "0  Длина 1м Разъем Lightning Подерживает быструю ...  \n",
              "1                                        Отсутствуют  \n",
              "3                                        Отсутствуют  \n",
              "4  Материал стекло Внутренний диаметр 45 мм  Высо...  \n",
              "5                                        Отсутствуют  "
            ],
            "text/html": [
              "\n",
              "  <div id=\"df-72e0433b-a5db-43c3-8d49-7bcaa48e09b0\">\n",
              "    <div class=\"colab-df-container\">\n",
              "      <div>\n",
              "<style scoped>\n",
              "    .dataframe tbody tr th:only-of-type {\n",
              "        vertical-align: middle;\n",
              "    }\n",
              "\n",
              "    .dataframe tbody tr th {\n",
              "        vertical-align: top;\n",
              "    }\n",
              "\n",
              "    .dataframe thead th {\n",
              "        text-align: right;\n",
              "    }\n",
              "</style>\n",
              "<table border=\"1\" class=\"dataframe\">\n",
              "  <thead>\n",
              "    <tr style=\"text-align: right;\">\n",
              "      <th></th>\n",
              "      <th>product_id</th>\n",
              "      <th>category_id</th>\n",
              "      <th>sale</th>\n",
              "      <th>shop_id</th>\n",
              "      <th>shop_title</th>\n",
              "      <th>rating</th>\n",
              "      <th>category_name</th>\n",
              "      <th>title</th>\n",
              "      <th>description</th>\n",
              "      <th>attributes</th>\n",
              "    </tr>\n",
              "  </thead>\n",
              "  <tbody>\n",
              "    <tr>\n",
              "      <th>0</th>\n",
              "      <td>325286</td>\n",
              "      <td>12171</td>\n",
              "      <td>False</td>\n",
              "      <td>9031</td>\n",
              "      <td>Aksik</td>\n",
              "      <td>5.0</td>\n",
              "      <td>Электроника Смартфоны и телефоны Аксессуары и ...</td>\n",
              "      <td>Зарядный кабель Borofone BX1 Lightning для айф...</td>\n",
              "      <td>Зарядный кабель подходит для зарядки всех гадж...</td>\n",
              "      <td>Длина 1м Разъем Lightning Подерживает быструю ...</td>\n",
              "    </tr>\n",
              "    <tr>\n",
              "      <th>1</th>\n",
              "      <td>888134</td>\n",
              "      <td>14233</td>\n",
              "      <td>False</td>\n",
              "      <td>18305</td>\n",
              "      <td>Sela</td>\n",
              "      <td>5.0</td>\n",
              "      <td>Одежда Женская одежда Белье и купальники Трусы</td>\n",
              "      <td>Трусы Sela</td>\n",
              "      <td>Трусы слипы из эластичного бесшовного трикотаж...</td>\n",
              "      <td>Отсутствуют</td>\n",
              "    </tr>\n",
              "    <tr>\n",
              "      <th>3</th>\n",
              "      <td>1267173</td>\n",
              "      <td>13429</td>\n",
              "      <td>False</td>\n",
              "      <td>16357</td>\n",
              "      <td>ЮНЛАНДИЯ канцтовары</td>\n",
              "      <td>5.0</td>\n",
              "      <td>Хобби и творчество Рисование Краски, пигменты</td>\n",
              "      <td>Гуашь ЮНЫЙ ВОЛШЕБНИК 12 цветов по 35 мл БОЛЬШИ...</td>\n",
              "      <td>Гуашь высшего качества ЮНЛАНДИЯ поможет создат...</td>\n",
              "      <td>Отсутствуют</td>\n",
              "    </tr>\n",
              "    <tr>\n",
              "      <th>4</th>\n",
              "      <td>1416943</td>\n",
              "      <td>2789</td>\n",
              "      <td>False</td>\n",
              "      <td>34666</td>\n",
              "      <td>вася-nicotine</td>\n",
              "      <td>4.0</td>\n",
              "      <td>Хобби и творчество Товары для курения Кальяны ...</td>\n",
              "      <td>Колба для кальяна Крафт разные цвета</td>\n",
              "      <td>Универсальная колба для кальяна подходит почти...</td>\n",
              "      <td>Материал стекло Внутренний диаметр 45 мм  Высо...</td>\n",
              "    </tr>\n",
              "    <tr>\n",
              "      <th>5</th>\n",
              "      <td>1058275</td>\n",
              "      <td>12834</td>\n",
              "      <td>False</td>\n",
              "      <td>26389</td>\n",
              "      <td>Lim Market</td>\n",
              "      <td>4.6</td>\n",
              "      <td>Одежда Женская одежда Домашняя одежда Пижамы</td>\n",
              "      <td>Пижама женская однотонная с шортами</td>\n",
              "      <td>Лёгкая ткань Комфортная посадка Идеальная длин...</td>\n",
              "      <td>Отсутствуют</td>\n",
              "    </tr>\n",
              "  </tbody>\n",
              "</table>\n",
              "</div>\n",
              "      <button class=\"colab-df-convert\" onclick=\"convertToInteractive('df-72e0433b-a5db-43c3-8d49-7bcaa48e09b0')\"\n",
              "              title=\"Convert this dataframe to an interactive table.\"\n",
              "              style=\"display:none;\">\n",
              "        \n",
              "  <svg xmlns=\"http://www.w3.org/2000/svg\" height=\"24px\"viewBox=\"0 0 24 24\"\n",
              "       width=\"24px\">\n",
              "    <path d=\"M0 0h24v24H0V0z\" fill=\"none\"/>\n",
              "    <path d=\"M18.56 5.44l.94 2.06.94-2.06 2.06-.94-2.06-.94-.94-2.06-.94 2.06-2.06.94zm-11 1L8.5 8.5l.94-2.06 2.06-.94-2.06-.94L8.5 2.5l-.94 2.06-2.06.94zm10 10l.94 2.06.94-2.06 2.06-.94-2.06-.94-.94-2.06-.94 2.06-2.06.94z\"/><path d=\"M17.41 7.96l-1.37-1.37c-.4-.4-.92-.59-1.43-.59-.52 0-1.04.2-1.43.59L10.3 9.45l-7.72 7.72c-.78.78-.78 2.05 0 2.83L4 21.41c.39.39.9.59 1.41.59.51 0 1.02-.2 1.41-.59l7.78-7.78 2.81-2.81c.8-.78.8-2.07 0-2.86zM5.41 20L4 18.59l7.72-7.72 1.47 1.35L5.41 20z\"/>\n",
              "  </svg>\n",
              "      </button>\n",
              "      \n",
              "  <style>\n",
              "    .colab-df-container {\n",
              "      display:flex;\n",
              "      flex-wrap:wrap;\n",
              "      gap: 12px;\n",
              "    }\n",
              "\n",
              "    .colab-df-convert {\n",
              "      background-color: #E8F0FE;\n",
              "      border: none;\n",
              "      border-radius: 50%;\n",
              "      cursor: pointer;\n",
              "      display: none;\n",
              "      fill: #1967D2;\n",
              "      height: 32px;\n",
              "      padding: 0 0 0 0;\n",
              "      width: 32px;\n",
              "    }\n",
              "\n",
              "    .colab-df-convert:hover {\n",
              "      background-color: #E2EBFA;\n",
              "      box-shadow: 0px 1px 2px rgba(60, 64, 67, 0.3), 0px 1px 3px 1px rgba(60, 64, 67, 0.15);\n",
              "      fill: #174EA6;\n",
              "    }\n",
              "\n",
              "    [theme=dark] .colab-df-convert {\n",
              "      background-color: #3B4455;\n",
              "      fill: #D2E3FC;\n",
              "    }\n",
              "\n",
              "    [theme=dark] .colab-df-convert:hover {\n",
              "      background-color: #434B5C;\n",
              "      box-shadow: 0px 1px 3px 1px rgba(0, 0, 0, 0.15);\n",
              "      filter: drop-shadow(0px 1px 2px rgba(0, 0, 0, 0.3));\n",
              "      fill: #FFFFFF;\n",
              "    }\n",
              "  </style>\n",
              "\n",
              "      <script>\n",
              "        const buttonEl =\n",
              "          document.querySelector('#df-72e0433b-a5db-43c3-8d49-7bcaa48e09b0 button.colab-df-convert');\n",
              "        buttonEl.style.display =\n",
              "          google.colab.kernel.accessAllowed ? 'block' : 'none';\n",
              "\n",
              "        async function convertToInteractive(key) {\n",
              "          const element = document.querySelector('#df-72e0433b-a5db-43c3-8d49-7bcaa48e09b0');\n",
              "          const dataTable =\n",
              "            await google.colab.kernel.invokeFunction('convertToInteractive',\n",
              "                                                     [key], {});\n",
              "          if (!dataTable) return;\n",
              "\n",
              "          const docLinkHtml = 'Like what you see? Visit the ' +\n",
              "            '<a target=\"_blank\" href=https://colab.research.google.com/notebooks/data_table.ipynb>data table notebook</a>'\n",
              "            + ' to learn more about interactive tables.';\n",
              "          element.innerHTML = '';\n",
              "          dataTable['output_type'] = 'display_data';\n",
              "          await google.colab.output.renderOutput(dataTable, element);\n",
              "          const docLink = document.createElement('div');\n",
              "          docLink.innerHTML = docLinkHtml;\n",
              "          element.appendChild(docLink);\n",
              "        }\n",
              "      </script>\n",
              "    </div>\n",
              "  </div>\n",
              "  "
            ]
          },
          "metadata": {},
          "execution_count": 54
        }
      ]
    },
    {
      "cell_type": "markdown",
      "source": [
        "Теперь надо сделать обработчик тестовых данных.\n",
        "Воспользуемся наработками"
      ],
      "metadata": {
        "id": "NoSI51zevkP3"
      }
    },
    {
      "cell_type": "code",
      "source": [
        "import requests\n",
        "from bs4 import BeautifulSoup"
      ],
      "metadata": {
        "id": "qvuvWfAptX00"
      },
      "execution_count": 55,
      "outputs": []
    },
    {
      "cell_type": "code",
      "source": [
        "test_data.head()"
      ],
      "metadata": {
        "colab": {
          "base_uri": "https://localhost:8080/",
          "height": 206
        },
        "id": "WCapuR2Oz4Z-",
        "outputId": "fc7e5f67-a13d-414a-93a2-d34a1c8dfbec"
      },
      "execution_count": 56,
      "outputs": [
        {
          "output_type": "execute_result",
          "data": {
            "text/plain": [
              "   product_id   sale  shop_id       shop_title    rating  \\\n",
              "1     1997646  False    22758  Sky_Electronics  5.000000   \n",
              "2      927375  False    17729     Di-Di Market  4.405941   \n",
              "3     1921513  False    54327      VisionStore  4.000000   \n",
              "4     1668662  False    15000         FORNAILS  5.000000   \n",
              "5     1467778  False    39600        МОЯ КУХНЯ  5.000000   \n",
              "\n",
              "                                         text_fields  \n",
              "1  {\"title\": \"Светодиодная лента Smart led Strip ...  \n",
              "2  {\"title\": \"Стекло ПЛЕНКА керамик матовое Honor...  \n",
              "3  {\"title\": \"Проводные наушники с микрофоном jac...  \n",
              "4  {\"title\": \"Декоративная табличка \\\"Правила кух...  \n",
              "5  {\"title\": \"Подставка под ложку керамическая, п...  "
            ],
            "text/html": [
              "\n",
              "  <div id=\"df-1f03517f-3ed3-41dd-9223-e61a58489ff4\">\n",
              "    <div class=\"colab-df-container\">\n",
              "      <div>\n",
              "<style scoped>\n",
              "    .dataframe tbody tr th:only-of-type {\n",
              "        vertical-align: middle;\n",
              "    }\n",
              "\n",
              "    .dataframe tbody tr th {\n",
              "        vertical-align: top;\n",
              "    }\n",
              "\n",
              "    .dataframe thead th {\n",
              "        text-align: right;\n",
              "    }\n",
              "</style>\n",
              "<table border=\"1\" class=\"dataframe\">\n",
              "  <thead>\n",
              "    <tr style=\"text-align: right;\">\n",
              "      <th></th>\n",
              "      <th>product_id</th>\n",
              "      <th>sale</th>\n",
              "      <th>shop_id</th>\n",
              "      <th>shop_title</th>\n",
              "      <th>rating</th>\n",
              "      <th>text_fields</th>\n",
              "    </tr>\n",
              "  </thead>\n",
              "  <tbody>\n",
              "    <tr>\n",
              "      <th>1</th>\n",
              "      <td>1997646</td>\n",
              "      <td>False</td>\n",
              "      <td>22758</td>\n",
              "      <td>Sky_Electronics</td>\n",
              "      <td>5.000000</td>\n",
              "      <td>{\"title\": \"Светодиодная лента Smart led Strip ...</td>\n",
              "    </tr>\n",
              "    <tr>\n",
              "      <th>2</th>\n",
              "      <td>927375</td>\n",
              "      <td>False</td>\n",
              "      <td>17729</td>\n",
              "      <td>Di-Di Market</td>\n",
              "      <td>4.405941</td>\n",
              "      <td>{\"title\": \"Стекло ПЛЕНКА керамик матовое Honor...</td>\n",
              "    </tr>\n",
              "    <tr>\n",
              "      <th>3</th>\n",
              "      <td>1921513</td>\n",
              "      <td>False</td>\n",
              "      <td>54327</td>\n",
              "      <td>VisionStore</td>\n",
              "      <td>4.000000</td>\n",
              "      <td>{\"title\": \"Проводные наушники с микрофоном jac...</td>\n",
              "    </tr>\n",
              "    <tr>\n",
              "      <th>4</th>\n",
              "      <td>1668662</td>\n",
              "      <td>False</td>\n",
              "      <td>15000</td>\n",
              "      <td>FORNAILS</td>\n",
              "      <td>5.000000</td>\n",
              "      <td>{\"title\": \"Декоративная табличка \\\"Правила кух...</td>\n",
              "    </tr>\n",
              "    <tr>\n",
              "      <th>5</th>\n",
              "      <td>1467778</td>\n",
              "      <td>False</td>\n",
              "      <td>39600</td>\n",
              "      <td>МОЯ КУХНЯ</td>\n",
              "      <td>5.000000</td>\n",
              "      <td>{\"title\": \"Подставка под ложку керамическая, п...</td>\n",
              "    </tr>\n",
              "  </tbody>\n",
              "</table>\n",
              "</div>\n",
              "      <button class=\"colab-df-convert\" onclick=\"convertToInteractive('df-1f03517f-3ed3-41dd-9223-e61a58489ff4')\"\n",
              "              title=\"Convert this dataframe to an interactive table.\"\n",
              "              style=\"display:none;\">\n",
              "        \n",
              "  <svg xmlns=\"http://www.w3.org/2000/svg\" height=\"24px\"viewBox=\"0 0 24 24\"\n",
              "       width=\"24px\">\n",
              "    <path d=\"M0 0h24v24H0V0z\" fill=\"none\"/>\n",
              "    <path d=\"M18.56 5.44l.94 2.06.94-2.06 2.06-.94-2.06-.94-.94-2.06-.94 2.06-2.06.94zm-11 1L8.5 8.5l.94-2.06 2.06-.94-2.06-.94L8.5 2.5l-.94 2.06-2.06.94zm10 10l.94 2.06.94-2.06 2.06-.94-2.06-.94-.94-2.06-.94 2.06-2.06.94z\"/><path d=\"M17.41 7.96l-1.37-1.37c-.4-.4-.92-.59-1.43-.59-.52 0-1.04.2-1.43.59L10.3 9.45l-7.72 7.72c-.78.78-.78 2.05 0 2.83L4 21.41c.39.39.9.59 1.41.59.51 0 1.02-.2 1.41-.59l7.78-7.78 2.81-2.81c.8-.78.8-2.07 0-2.86zM5.41 20L4 18.59l7.72-7.72 1.47 1.35L5.41 20z\"/>\n",
              "  </svg>\n",
              "      </button>\n",
              "      \n",
              "  <style>\n",
              "    .colab-df-container {\n",
              "      display:flex;\n",
              "      flex-wrap:wrap;\n",
              "      gap: 12px;\n",
              "    }\n",
              "\n",
              "    .colab-df-convert {\n",
              "      background-color: #E8F0FE;\n",
              "      border: none;\n",
              "      border-radius: 50%;\n",
              "      cursor: pointer;\n",
              "      display: none;\n",
              "      fill: #1967D2;\n",
              "      height: 32px;\n",
              "      padding: 0 0 0 0;\n",
              "      width: 32px;\n",
              "    }\n",
              "\n",
              "    .colab-df-convert:hover {\n",
              "      background-color: #E2EBFA;\n",
              "      box-shadow: 0px 1px 2px rgba(60, 64, 67, 0.3), 0px 1px 3px 1px rgba(60, 64, 67, 0.15);\n",
              "      fill: #174EA6;\n",
              "    }\n",
              "\n",
              "    [theme=dark] .colab-df-convert {\n",
              "      background-color: #3B4455;\n",
              "      fill: #D2E3FC;\n",
              "    }\n",
              "\n",
              "    [theme=dark] .colab-df-convert:hover {\n",
              "      background-color: #434B5C;\n",
              "      box-shadow: 0px 1px 3px 1px rgba(0, 0, 0, 0.15);\n",
              "      filter: drop-shadow(0px 1px 2px rgba(0, 0, 0, 0.3));\n",
              "      fill: #FFFFFF;\n",
              "    }\n",
              "  </style>\n",
              "\n",
              "      <script>\n",
              "        const buttonEl =\n",
              "          document.querySelector('#df-1f03517f-3ed3-41dd-9223-e61a58489ff4 button.colab-df-convert');\n",
              "        buttonEl.style.display =\n",
              "          google.colab.kernel.accessAllowed ? 'block' : 'none';\n",
              "\n",
              "        async function convertToInteractive(key) {\n",
              "          const element = document.querySelector('#df-1f03517f-3ed3-41dd-9223-e61a58489ff4');\n",
              "          const dataTable =\n",
              "            await google.colab.kernel.invokeFunction('convertToInteractive',\n",
              "                                                     [key], {});\n",
              "          if (!dataTable) return;\n",
              "\n",
              "          const docLinkHtml = 'Like what you see? Visit the ' +\n",
              "            '<a target=\"_blank\" href=https://colab.research.google.com/notebooks/data_table.ipynb>data table notebook</a>'\n",
              "            + ' to learn more about interactive tables.';\n",
              "          element.innerHTML = '';\n",
              "          dataTable['output_type'] = 'display_data';\n",
              "          await google.colab.output.renderOutput(dataTable, element);\n",
              "          const docLink = document.createElement('div');\n",
              "          docLink.innerHTML = docLinkHtml;\n",
              "          element.appendChild(docLink);\n",
              "        }\n",
              "      </script>\n",
              "    </div>\n",
              "  </div>\n",
              "  "
            ]
          },
          "metadata": {},
          "execution_count": 56
        }
      ]
    },
    {
      "cell_type": "code",
      "source": [
        "id_product = test_data.product_id[1]\n",
        "print(f'ИД товара для формирования запроса по API : {id_product}')\n",
        "\n",
        "url = f'https://api.kazanexpress.ru/api/v2/product/{id_product}' # Формируем урл\n",
        "\n",
        "request = requests.get(url)                         # GET Запрос\n",
        "print(f'Статус запроса : {request}')                # Ответ"
      ],
      "metadata": {
        "colab": {
          "base_uri": "https://localhost:8080/"
        },
        "id": "29uIctAbz2WG",
        "outputId": "389ae051-24c2-4ccc-f6fd-c025ff3389fb"
      },
      "execution_count": 57,
      "outputs": [
        {
          "output_type": "stream",
          "name": "stdout",
          "text": [
            "ИД товара для формирования запроса по API : 1997646\n",
            "Статус запроса : <Response [200]>\n"
          ]
        }
      ]
    },
    {
      "cell_type": "code",
      "source": [
        "print(request.text)"
      ],
      "metadata": {
        "colab": {
          "base_uri": "https://localhost:8080/"
        },
        "id": "8hhLF8H30B5W",
        "outputId": "1d804ddc-dbd3-448a-e9fe-d5bc50b0280c"
      },
      "execution_count": 58,
      "outputs": [
        {
          "output_type": "stream",
          "name": "stdout",
          "text": [
            "{\"payload\":{\"data\":{\"id\":1997646,\"title\":\"Светодиодная лента Smart led Strip Light, с пультом, 5 метров, USB, Bluetooth\",\"category\":{\"id\":13495,\"title\":\"Гирлянды\",\"productAmount\":2389,\"parent\":{\"id\":10508,\"title\":\"Новогодние товары\",\"productAmount\":4711,\"parent\":{\"id\":10118,\"title\":\"Товары для праздников\",\"productAmount\":24213,\"parent\":{\"id\":10018,\"title\":\"Товары для дома\",\"productAmount\":67715,\"parent\":null}}}},\"rating\":5.0,\"reviewsAmount\":1,\"ordersAmount\":10,\"rOrdersAmount\":10,\"totalAvailableAmount\":13,\"charityCommission\":0,\"description\":\"<p>Светодиодная лента LED, 5 м, RGB (Цветная) влагостойкая лента с пультом, USB адаптером, и возможностью управления с телефона.</p><p>Скачать приложение можно по ссылке <a href=\\\"http://www.qrtransfer.com/MiraclesStar.html\\\">http://www.qrtransfer.com/MiraclesStar.html</a></p><p>Гибкая, яркая, с хорошей световой отдачей и низкой ценой. Лента произведена на основе самоклеящейся печатной платы с прочным клеевым слоем «3М». Может нарезаться по 5 см (кратность - 3 диода) без потери их работоспособности, каждый участок может использоваться отдельно, припаиваться при соблюдении контактов в любые формы.</p><p>Температурный спектр светодиодной ленты нейтральный, что делает ее наиболее универсальной для различных целей, благоприятной для освещения и восприятия человеческим глазом.</p><p>Лента очень проста в использовании и полностью готова к работе. Достаточно лишь снять защитный слой с ленты и приложить к предварительно обезжиренной поверхности. Влагозащищенная светодиодная лента LUX Class 300 Led, IP65 экономична и долговечна.</p>\",\"comments\":[{\"commentType\":\"Инструкция\",\"comment\":\"<p>Скачать приложение по ссылке <a href=\\\"http://www.qrtransfer.com/MiraclesStar.html\\\" target=\\\"_blank\\\">http://www.qrtransfer.com/MiraclesStar.html</a></p>\"}],\"attributes\":[\"USB адаптер даст возможность подключить ленту к чему угодно и где угодно\",\"Легкость управления с пульта, а так же смартфона (Android) приложение можно скачать наведя на QR код на USB адаптере\"],\"tags\":[],\"synonyms\":[],\"photos\":[{\"photo\":{\"800\":{\"high\":\"https://ke-images.servicecdn.ru/cdp4qib08368g1qat6gg/original.jpg\",\"low\":\"https://ke-images.servicecdn.ru/cdp4qib08368g1qat6gg/t_product_low.jpg\"},\"720\":{\"high\":\"https://ke-images.servicecdn.ru/cdp4qib08368g1qat6gg/original.jpg\",\"low\":\"https://ke-images.servicecdn.ru/cdp4qib08368g1qat6gg/t_product_low.jpg\"},\"480\":{\"high\":\"https://ke-images.servicecdn.ru/cdp4qib08368g1qat6gg/t_product_540_high.jpg\",\"low\":\"https://ke-images.servicecdn.ru/cdp4qib08368g1qat6gg/t_product_540_low.jpg\"},\"240\":{\"high\":\"https://ke-images.servicecdn.ru/cdp4qib08368g1qat6gg/t_product_240_high.jpg\",\"low\":\"https://ke-images.servicecdn.ru/cdp4qib08368g1qat6gg/t_product_240_low.jpg\"},\"80\":{\"high\":\"https://ke-images.servicecdn.ru/cdp4qib08368g1qat6gg/t_product_80_high.jpg\",\"low\":\"https://ke-images.servicecdn.ru/cdp4qib08368g1qat6gg/t_product_80_low.jpg\"},\"24034\":{\"high\":\"https://ke-images.servicecdn.ru/cdp4qib08368g1qat6gg/t_product_240_high.jpg\",\"low\":\"https://ke-images.servicecdn.ru/cdp4qib08368g1qat6gg/t_product_240_low.jpg\"},\"120\":{\"high\":\"https://ke-images.servicecdn.ru/cdp4qib08368g1qat6gg/t_product_240_high.jpg\",\"low\":\"https://ke-images.servicecdn.ru/cdp4qib08368g1qat6gg/t_product_240_low.jpg\"},\"540\":{\"high\":\"https://ke-images.servicecdn.ru/cdp4qib08368g1qat6gg/t_product_540_high.jpg\",\"low\":\"https://ke-images.servicecdn.ru/cdp4qib08368g1qat6gg/t_product_540_low.jpg\"},\"60\":{\"high\":\"https://ke-images.servicecdn.ru/cdp4qib08368g1qat6gg/t_product_80_high.jpg\",\"low\":\"https://ke-images.servicecdn.ru/cdp4qib08368g1qat6gg/t_product_80_low.jpg\"}},\"photoKey\":\"cdp4qib08368g1qat6gg\",\"color\":null,\"hasVerticalPhoto\":false},{\"photo\":{\"800\":{\"high\":\"https://ke-images.servicecdn.ru/cdp4qib2fmcqfdjsi6qg/original.jpg\",\"low\":\"https://ke-images.servicecdn.ru/cdp4qib2fmcqfdjsi6qg/t_product_low.jpg\"},\"720\":{\"high\":\"https://ke-images.servicecdn.ru/cdp4qib2fmcqfdjsi6qg/original.jpg\",\"low\":\"https://ke-images.servicecdn.ru/cdp4qib2fmcqfdjsi6qg/t_product_low.jpg\"},\"480\":{\"high\":\"https://ke-images.servicecdn.ru/cdp4qib2fmcqfdjsi6qg/t_product_540_high.jpg\",\"low\":\"https://ke-images.servicecdn.ru/cdp4qib2fmcqfdjsi6qg/t_product_540_low.jpg\"},\"240\":{\"high\":\"https://ke-images.servicecdn.ru/cdp4qib2fmcqfdjsi6qg/t_product_240_high.jpg\",\"low\":\"https://ke-images.servicecdn.ru/cdp4qib2fmcqfdjsi6qg/t_product_240_low.jpg\"},\"80\":{\"high\":\"https://ke-images.servicecdn.ru/cdp4qib2fmcqfdjsi6qg/t_product_80_high.jpg\",\"low\":\"https://ke-images.servicecdn.ru/cdp4qib2fmcqfdjsi6qg/t_product_80_low.jpg\"},\"24034\":{\"high\":\"https://ke-images.servicecdn.ru/cdp4qib2fmcqfdjsi6qg/t_product_240_high.jpg\",\"low\":\"https://ke-images.servicecdn.ru/cdp4qib2fmcqfdjsi6qg/t_product_240_low.jpg\"},\"120\":{\"high\":\"https://ke-images.servicecdn.ru/cdp4qib2fmcqfdjsi6qg/t_product_240_high.jpg\",\"low\":\"https://ke-images.servicecdn.ru/cdp4qib2fmcqfdjsi6qg/t_product_240_low.jpg\"},\"540\":{\"high\":\"https://ke-images.servicecdn.ru/cdp4qib2fmcqfdjsi6qg/t_product_540_high.jpg\",\"low\":\"https://ke-images.servicecdn.ru/cdp4qib2fmcqfdjsi6qg/t_product_540_low.jpg\"},\"60\":{\"high\":\"https://ke-images.servicecdn.ru/cdp4qib2fmcqfdjsi6qg/t_product_80_high.jpg\",\"low\":\"https://ke-images.servicecdn.ru/cdp4qib2fmcqfdjsi6qg/t_product_80_low.jpg\"}},\"photoKey\":\"cdp4qib2fmcqfdjsi6qg\",\"color\":null,\"hasVerticalPhoto\":false},{\"photo\":{\"800\":{\"high\":\"https://ke-images.servicecdn.ru/cdp4qilirr02r083un8g/original.jpg\",\"low\":\"https://ke-images.servicecdn.ru/cdp4qilirr02r083un8g/t_product_low.jpg\"},\"720\":{\"high\":\"https://ke-images.servicecdn.ru/cdp4qilirr02r083un8g/original.jpg\",\"low\":\"https://ke-images.servicecdn.ru/cdp4qilirr02r083un8g/t_product_low.jpg\"},\"480\":{\"high\":\"https://ke-images.servicecdn.ru/cdp4qilirr02r083un8g/t_product_540_high.jpg\",\"low\":\"https://ke-images.servicecdn.ru/cdp4qilirr02r083un8g/t_product_540_low.jpg\"},\"240\":{\"high\":\"https://ke-images.servicecdn.ru/cdp4qilirr02r083un8g/t_product_240_high.jpg\",\"low\":\"https://ke-images.servicecdn.ru/cdp4qilirr02r083un8g/t_product_240_low.jpg\"},\"80\":{\"high\":\"https://ke-images.servicecdn.ru/cdp4qilirr02r083un8g/t_product_80_high.jpg\",\"low\":\"https://ke-images.servicecdn.ru/cdp4qilirr02r083un8g/t_product_80_low.jpg\"},\"24034\":{\"high\":\"https://ke-images.servicecdn.ru/cdp4qilirr02r083un8g/t_product_240_high.jpg\",\"low\":\"https://ke-images.servicecdn.ru/cdp4qilirr02r083un8g/t_product_240_low.jpg\"},\"120\":{\"high\":\"https://ke-images.servicecdn.ru/cdp4qilirr02r083un8g/t_product_240_high.jpg\",\"low\":\"https://ke-images.servicecdn.ru/cdp4qilirr02r083un8g/t_product_240_low.jpg\"},\"540\":{\"high\":\"https://ke-images.servicecdn.ru/cdp4qilirr02r083un8g/t_product_540_high.jpg\",\"low\":\"https://ke-images.servicecdn.ru/cdp4qilirr02r083un8g/t_product_540_low.jpg\"},\"60\":{\"high\":\"https://ke-images.servicecdn.ru/cdp4qilirr02r083un8g/t_product_80_high.jpg\",\"low\":\"https://ke-images.servicecdn.ru/cdp4qilirr02r083un8g/t_product_80_low.jpg\"}},\"photoKey\":\"cdp4qilirr02r083un8g\",\"color\":null,\"hasVerticalPhoto\":false},{\"photo\":{\"800\":{\"high\":\"https://ke-images.servicecdn.ru/cdp4qi84p7coiqquabrg/original.jpg\",\"low\":\"https://ke-images.servicecdn.ru/cdp4qi84p7coiqquabrg/t_product_low.jpg\"},\"720\":{\"high\":\"https://ke-images.servicecdn.ru/cdp4qi84p7coiqquabrg/original.jpg\",\"low\":\"https://ke-images.servicecdn.ru/cdp4qi84p7coiqquabrg/t_product_low.jpg\"},\"480\":{\"high\":\"https://ke-images.servicecdn.ru/cdp4qi84p7coiqquabrg/t_product_540_high.jpg\",\"low\":\"https://ke-images.servicecdn.ru/cdp4qi84p7coiqquabrg/t_product_540_low.jpg\"},\"240\":{\"high\":\"https://ke-images.servicecdn.ru/cdp4qi84p7coiqquabrg/t_product_240_high.jpg\",\"low\":\"https://ke-images.servicecdn.ru/cdp4qi84p7coiqquabrg/t_product_240_low.jpg\"},\"80\":{\"high\":\"https://ke-images.servicecdn.ru/cdp4qi84p7coiqquabrg/t_product_80_high.jpg\",\"low\":\"https://ke-images.servicecdn.ru/cdp4qi84p7coiqquabrg/t_product_80_low.jpg\"},\"24034\":{\"high\":\"https://ke-images.servicecdn.ru/cdp4qi84p7coiqquabrg/t_product_240_high.jpg\",\"low\":\"https://ke-images.servicecdn.ru/cdp4qi84p7coiqquabrg/t_product_240_low.jpg\"},\"120\":{\"high\":\"https://ke-images.servicecdn.ru/cdp4qi84p7coiqquabrg/t_product_240_high.jpg\",\"low\":\"https://ke-images.servicecdn.ru/cdp4qi84p7coiqquabrg/t_product_240_low.jpg\"},\"540\":{\"high\":\"https://ke-images.servicecdn.ru/cdp4qi84p7coiqquabrg/t_product_540_high.jpg\",\"low\":\"https://ke-images.servicecdn.ru/cdp4qi84p7coiqquabrg/t_product_540_low.jpg\"},\"60\":{\"high\":\"https://ke-images.servicecdn.ru/cdp4qi84p7coiqquabrg/t_product_80_high.jpg\",\"low\":\"https://ke-images.servicecdn.ru/cdp4qi84p7coiqquabrg/t_product_80_low.jpg\"}},\"photoKey\":\"cdp4qi84p7coiqquabrg\",\"color\":null,\"hasVerticalPhoto\":false},{\"photo\":{\"800\":{\"high\":\"https://ke-images.servicecdn.ru/cdp4qij08368g1qat6h0/original.jpg\",\"low\":\"https://ke-images.servicecdn.ru/cdp4qij08368g1qat6h0/t_product_low.jpg\"},\"720\":{\"high\":\"https://ke-images.servicecdn.ru/cdp4qij08368g1qat6h0/original.jpg\",\"low\":\"https://ke-images.servicecdn.ru/cdp4qij08368g1qat6h0/t_product_low.jpg\"},\"480\":{\"high\":\"https://ke-images.servicecdn.ru/cdp4qij08368g1qat6h0/t_product_540_high.jpg\",\"low\":\"https://ke-images.servicecdn.ru/cdp4qij08368g1qat6h0/t_product_540_low.jpg\"},\"240\":{\"high\":\"https://ke-images.servicecdn.ru/cdp4qij08368g1qat6h0/t_product_240_high.jpg\",\"low\":\"https://ke-images.servicecdn.ru/cdp4qij08368g1qat6h0/t_product_240_low.jpg\"},\"80\":{\"high\":\"https://ke-images.servicecdn.ru/cdp4qij08368g1qat6h0/t_product_80_high.jpg\",\"low\":\"https://ke-images.servicecdn.ru/cdp4qij08368g1qat6h0/t_product_80_low.jpg\"},\"24034\":{\"high\":\"https://ke-images.servicecdn.ru/cdp4qij08368g1qat6h0/t_product_240_high.jpg\",\"low\":\"https://ke-images.servicecdn.ru/cdp4qij08368g1qat6h0/t_product_240_low.jpg\"},\"120\":{\"high\":\"https://ke-images.servicecdn.ru/cdp4qij08368g1qat6h0/t_product_240_high.jpg\",\"low\":\"https://ke-images.servicecdn.ru/cdp4qij08368g1qat6h0/t_product_240_low.jpg\"},\"540\":{\"high\":\"https://ke-images.servicecdn.ru/cdp4qij08368g1qat6h0/t_product_540_high.jpg\",\"low\":\"https://ke-images.servicecdn.ru/cdp4qij08368g1qat6h0/t_product_540_low.jpg\"},\"60\":{\"high\":\"https://ke-images.servicecdn.ru/cdp4qij08368g1qat6h0/t_product_80_high.jpg\",\"low\":\"https://ke-images.servicecdn.ru/cdp4qij08368g1qat6h0/t_product_80_low.jpg\"}},\"photoKey\":\"cdp4qij08368g1qat6h0\",\"color\":null,\"hasVerticalPhoto\":false},{\"photo\":{\"800\":{\"high\":\"https://ke-images.servicecdn.ru/cdfrakp9ifffh1p1pb10/original.jpg\",\"low\":\"https://ke-images.servicecdn.ru/cdfrakp9ifffh1p1pb10/t_product_low.jpg\"},\"720\":{\"high\":\"https://ke-images.servicecdn.ru/cdfrakp9ifffh1p1pb10/original.jpg\",\"low\":\"https://ke-images.servicecdn.ru/cdfrakp9ifffh1p1pb10/t_product_low.jpg\"},\"480\":{\"high\":\"https://ke-images.servicecdn.ru/cdfrakp9ifffh1p1pb10/t_product_540_high.jpg\",\"low\":\"https://ke-images.servicecdn.ru/cdfrakp9ifffh1p1pb10/t_product_540_low.jpg\"},\"240\":{\"high\":\"https://ke-images.servicecdn.ru/cdfrakp9ifffh1p1pb10/t_product_240_high.jpg\",\"low\":\"https://ke-images.servicecdn.ru/cdfrakp9ifffh1p1pb10/t_product_240_low.jpg\"},\"80\":{\"high\":\"https://ke-images.servicecdn.ru/cdfrakp9ifffh1p1pb10/t_product_80_high.jpg\",\"low\":\"https://ke-images.servicecdn.ru/cdfrakp9ifffh1p1pb10/t_product_80_low.jpg\"},\"24034\":{\"high\":\"https://ke-images.servicecdn.ru/cdfrakp9ifffh1p1pb10/t_product_240_high.jpg\",\"low\":\"https://ke-images.servicecdn.ru/cdfrakp9ifffh1p1pb10/t_product_240_low.jpg\"},\"120\":{\"high\":\"https://ke-images.servicecdn.ru/cdfrakp9ifffh1p1pb10/t_product_240_high.jpg\",\"low\":\"https://ke-images.servicecdn.ru/cdfrakp9ifffh1p1pb10/t_product_240_low.jpg\"},\"540\":{\"high\":\"https://ke-images.servicecdn.ru/cdfrakp9ifffh1p1pb10/t_product_540_high.jpg\",\"low\":\"https://ke-images.servicecdn.ru/cdfrakp9ifffh1p1pb10/t_product_540_low.jpg\"},\"60\":{\"high\":\"https://ke-images.servicecdn.ru/cdfrakp9ifffh1p1pb10/t_product_80_high.jpg\",\"low\":\"https://ke-images.servicecdn.ru/cdfrakp9ifffh1p1pb10/t_product_80_low.jpg\"}},\"photoKey\":\"cdfrakp9ifffh1p1pb10\",\"color\":null,\"hasVerticalPhoto\":false},{\"photo\":{\"800\":{\"high\":\"https://ke-images.servicecdn.ru/cdfralq7dhhu595h5hr0/original.jpg\",\"low\":\"https://ke-images.servicecdn.ru/cdfralq7dhhu595h5hr0/t_product_low.jpg\"},\"720\":{\"high\":\"https://ke-images.servicecdn.ru/cdfralq7dhhu595h5hr0/original.jpg\",\"low\":\"https://ke-images.servicecdn.ru/cdfralq7dhhu595h5hr0/t_product_low.jpg\"},\"480\":{\"high\":\"https://ke-images.servicecdn.ru/cdfralq7dhhu595h5hr0/t_product_540_high.jpg\",\"low\":\"https://ke-images.servicecdn.ru/cdfralq7dhhu595h5hr0/t_product_540_low.jpg\"},\"240\":{\"high\":\"https://ke-images.servicecdn.ru/cdfralq7dhhu595h5hr0/t_product_240_high.jpg\",\"low\":\"https://ke-images.servicecdn.ru/cdfralq7dhhu595h5hr0/t_product_240_low.jpg\"},\"80\":{\"high\":\"https://ke-images.servicecdn.ru/cdfralq7dhhu595h5hr0/t_product_80_high.jpg\",\"low\":\"https://ke-images.servicecdn.ru/cdfralq7dhhu595h5hr0/t_product_80_low.jpg\"},\"24034\":{\"high\":\"https://ke-images.servicecdn.ru/cdfralq7dhhu595h5hr0/t_product_240_high.jpg\",\"low\":\"https://ke-images.servicecdn.ru/cdfralq7dhhu595h5hr0/t_product_240_low.jpg\"},\"120\":{\"high\":\"https://ke-images.servicecdn.ru/cdfralq7dhhu595h5hr0/t_product_240_high.jpg\",\"low\":\"https://ke-images.servicecdn.ru/cdfralq7dhhu595h5hr0/t_product_240_low.jpg\"},\"540\":{\"high\":\"https://ke-images.servicecdn.ru/cdfralq7dhhu595h5hr0/t_product_540_high.jpg\",\"low\":\"https://ke-images.servicecdn.ru/cdfralq7dhhu595h5hr0/t_product_540_low.jpg\"},\"60\":{\"high\":\"https://ke-images.servicecdn.ru/cdfralq7dhhu595h5hr0/t_product_80_high.jpg\",\"low\":\"https://ke-images.servicecdn.ru/cdfralq7dhhu595h5hr0/t_product_80_low.jpg\"}},\"photoKey\":\"cdfralq7dhhu595h5hr0\",\"color\":null,\"hasVerticalPhoto\":false}],\"video\":null,\"hasCircularPhotos\":false,\"circularPhotosList\":[],\"characteristics\":[],\"productOptionDtos\":[],\"skuList\":[{\"id\":5733625,\"characteristics\":[],\"availableAmount\":13,\"fullPrice\":1500.00,\"charityProfit\":0.00,\"purchasePrice\":1299.00,\"barcode\":1000057336250,\"address\":null,\"offer\":null,\"discountBadge\":null,\"installment\":null,\"productOptionDtos\":[{\"optionId\":1,\"text\":\"Долями\",\"type\":\"DOLYAME\",\"paymentInfo\":\"324,75 1299,00\",\"active\":true}],\"vat\":{\"type\":\"VAT0\",\"vatRate\":0,\"vatAmount\":0.00,\"price\":1299.00},\"circularPhotosList\":[],\"videoUrl\":null,\"sellPrice\":129900}],\"seller\":{\"id\":22758,\"title\":\"Sky_Electronics\",\"link\":\"skyelectronics\",\"banner\":null,\"avatar\":null,\"description\":\"Высококачественная электроника,  и товары для дома выгодным ценам. \\nУважаемый покупатель, при приобретении товара в нашем магазине на сумму от 3500 рублей получи скидку 10% по промокоду 058E6-SALE3500 . Количество применений ограничено! Акция действует до 31.07.22\",\"hasCharityProducts\":false,\"registrationDate\":1629962067562,\"rating\":3.8,\"reviews\":84,\"orders\":1072,\"official\":false,\"contacts\":[],\"categories\":[],\"currentCategory\":null,\"filters\":[],\"appliedFilters\":[],\"priceFilter\":null,\"totalProducts\":0,\"parents\":[],\"products\":[],\"sellerAccountId\":2030777,\"info\":null},\"topFeedback\":{\"reviewId\":6125541,\"productId\":1997646,\"date\":1668608054085,\"edited\":true,\"customer\":\"Екатерина\",\"rating\":5,\"characteristics\":[],\"pros\":null,\"cons\":null,\"content\":\"дочь довольна. спасибо\",\"photos\":[],\"status\":\"PUBLISHED\",\"hasVerticalPhoto\":null,\"like\":false,\"dislike\":false,\"amountLike\":0,\"amountDislike\":0,\"id\":139328349,\"isAnonymous\":false},\"isEco\":false,\"isPerishable\":false,\"hasVerticalPhoto\":true,\"showKitty\":false,\"bonusProduct\":false,\"badges\":[],\"volumeDiscount\":null,\"adultCategory\":false,\"colorPhotoPreview\":false,\"favourite\":false},\"promotion\":null},\"timestamp\":[2023,3,12,16,30,41,226284000]}\n"
          ]
        }
      ]
    },
    {
      "cell_type": "code",
      "source": [
        "# Сформируем json экземпляр, чтобы доставать информацию о продавце\n",
        "\n",
        "res_req = json.loads(request.text)"
      ],
      "metadata": {
        "id": "pt2tlFdb0EgO"
      },
      "execution_count": 59,
      "outputs": []
    },
    {
      "cell_type": "code",
      "source": [
        "def dict_to_lists(dct):\n",
        "    \"\"\"\n",
        "    Функция для преобразования многоуровневого словаря в список с элементами ИД - категория\n",
        "    \"\"\"\n",
        "    list_for_id = []\n",
        "    list_for_title = []\n",
        "\n",
        "    var_str = dct['payload']['data']['category'] #выбираем многоуровневый словарь с категориями\n",
        "    var_str_1 = str(var_str).replace('{', '').replace(\"'\", '').replace('}', '').replace(':', '') # Для простоты работаем с регулярками\n",
        "    list_id = re.findall(r'id\\s[0-9]+', var_str_1)\n",
        "    \n",
        "    for elem in list_id:\n",
        "        list_for_id.append(int(elem.split(\" \")[1]))\n",
        "\n",
        "    list_title = re.findall(r'[а-яА-Я].*?[,]', var_str_1)\n",
        "\n",
        "    for elem in list_title:\n",
        "        list_for_title.append(elem.split(\",\")[0])\n",
        "\n",
        "    result = list(zip(list_for_id, list_for_title))\n",
        "    \n",
        "    return result"
      ],
      "metadata": {
        "id": "9goUJ2My0Hqm"
      },
      "execution_count": 60,
      "outputs": []
    },
    {
      "cell_type": "code",
      "source": [
        "var_ = dict_to_lists(res_req)"
      ],
      "metadata": {
        "id": "tf3yI6Wj0Kiu"
      },
      "execution_count": 61,
      "outputs": []
    },
    {
      "cell_type": "code",
      "source": [
        "var_"
      ],
      "metadata": {
        "colab": {
          "base_uri": "https://localhost:8080/"
        },
        "id": "ET-svvLv0StF",
        "outputId": "cb8bb450-d37c-4774-a348-85cfee20f576"
      },
      "execution_count": 62,
      "outputs": [
        {
          "output_type": "execute_result",
          "data": {
            "text/plain": [
              "[(13495, 'Гирлянды'),\n",
              " (10508, 'Новогодние товары'),\n",
              " (10118, 'Товары для праздников'),\n",
              " (10018, 'Товары для дома')]"
            ]
          },
          "metadata": {},
          "execution_count": 62
        }
      ]
    },
    {
      "cell_type": "code",
      "source": [
        "list_cats = []\n",
        "\n",
        "for elem in var_:\n",
        "    list_cats.append(elem[1])\n",
        "\n",
        "res_str = ' '.join(list_cats)\n",
        "\n",
        "print(res_str)"
      ],
      "metadata": {
        "colab": {
          "base_uri": "https://localhost:8080/"
        },
        "id": "nzxwDyyR0Tu5",
        "outputId": "9a269330-5c45-4fbb-aeaa-7e7679804756"
      },
      "execution_count": 63,
      "outputs": [
        {
          "output_type": "stream",
          "name": "stdout",
          "text": [
            "Гирлянды Новогодние товары Товары для праздников Товары для дома\n"
          ]
        }
      ]
    },
    {
      "cell_type": "code",
      "source": [
        "test_data_copy = test_data.copy()"
      ],
      "metadata": {
        "id": "bWqfG2X70mxm"
      },
      "execution_count": 64,
      "outputs": []
    },
    {
      "cell_type": "code",
      "source": [
        "train_data.loc[train_data['product_id'] == 927375]"
      ],
      "metadata": {
        "colab": {
          "base_uri": "https://localhost:8080/",
          "height": 49
        },
        "id": "oIbwEIQeC7zl",
        "outputId": "aa5fd69c-db69-4c2d-acfd-355babf030b7"
      },
      "execution_count": 72,
      "outputs": [
        {
          "output_type": "execute_result",
          "data": {
            "text/plain": [
              "Empty DataFrame\n",
              "Columns: [product_id, category_id, sale, shop_id, shop_title, rating, text_fields, category_name]\n",
              "Index: []"
            ],
            "text/html": [
              "\n",
              "  <div id=\"df-f895f082-5bdf-44e2-968b-9555b517b613\">\n",
              "    <div class=\"colab-df-container\">\n",
              "      <div>\n",
              "<style scoped>\n",
              "    .dataframe tbody tr th:only-of-type {\n",
              "        vertical-align: middle;\n",
              "    }\n",
              "\n",
              "    .dataframe tbody tr th {\n",
              "        vertical-align: top;\n",
              "    }\n",
              "\n",
              "    .dataframe thead th {\n",
              "        text-align: right;\n",
              "    }\n",
              "</style>\n",
              "<table border=\"1\" class=\"dataframe\">\n",
              "  <thead>\n",
              "    <tr style=\"text-align: right;\">\n",
              "      <th></th>\n",
              "      <th>product_id</th>\n",
              "      <th>category_id</th>\n",
              "      <th>sale</th>\n",
              "      <th>shop_id</th>\n",
              "      <th>shop_title</th>\n",
              "      <th>rating</th>\n",
              "      <th>text_fields</th>\n",
              "      <th>category_name</th>\n",
              "    </tr>\n",
              "  </thead>\n",
              "  <tbody>\n",
              "  </tbody>\n",
              "</table>\n",
              "</div>\n",
              "      <button class=\"colab-df-convert\" onclick=\"convertToInteractive('df-f895f082-5bdf-44e2-968b-9555b517b613')\"\n",
              "              title=\"Convert this dataframe to an interactive table.\"\n",
              "              style=\"display:none;\">\n",
              "        \n",
              "  <svg xmlns=\"http://www.w3.org/2000/svg\" height=\"24px\"viewBox=\"0 0 24 24\"\n",
              "       width=\"24px\">\n",
              "    <path d=\"M0 0h24v24H0V0z\" fill=\"none\"/>\n",
              "    <path d=\"M18.56 5.44l.94 2.06.94-2.06 2.06-.94-2.06-.94-.94-2.06-.94 2.06-2.06.94zm-11 1L8.5 8.5l.94-2.06 2.06-.94-2.06-.94L8.5 2.5l-.94 2.06-2.06.94zm10 10l.94 2.06.94-2.06 2.06-.94-2.06-.94-.94-2.06-.94 2.06-2.06.94z\"/><path d=\"M17.41 7.96l-1.37-1.37c-.4-.4-.92-.59-1.43-.59-.52 0-1.04.2-1.43.59L10.3 9.45l-7.72 7.72c-.78.78-.78 2.05 0 2.83L4 21.41c.39.39.9.59 1.41.59.51 0 1.02-.2 1.41-.59l7.78-7.78 2.81-2.81c.8-.78.8-2.07 0-2.86zM5.41 20L4 18.59l7.72-7.72 1.47 1.35L5.41 20z\"/>\n",
              "  </svg>\n",
              "      </button>\n",
              "      \n",
              "  <style>\n",
              "    .colab-df-container {\n",
              "      display:flex;\n",
              "      flex-wrap:wrap;\n",
              "      gap: 12px;\n",
              "    }\n",
              "\n",
              "    .colab-df-convert {\n",
              "      background-color: #E8F0FE;\n",
              "      border: none;\n",
              "      border-radius: 50%;\n",
              "      cursor: pointer;\n",
              "      display: none;\n",
              "      fill: #1967D2;\n",
              "      height: 32px;\n",
              "      padding: 0 0 0 0;\n",
              "      width: 32px;\n",
              "    }\n",
              "\n",
              "    .colab-df-convert:hover {\n",
              "      background-color: #E2EBFA;\n",
              "      box-shadow: 0px 1px 2px rgba(60, 64, 67, 0.3), 0px 1px 3px 1px rgba(60, 64, 67, 0.15);\n",
              "      fill: #174EA6;\n",
              "    }\n",
              "\n",
              "    [theme=dark] .colab-df-convert {\n",
              "      background-color: #3B4455;\n",
              "      fill: #D2E3FC;\n",
              "    }\n",
              "\n",
              "    [theme=dark] .colab-df-convert:hover {\n",
              "      background-color: #434B5C;\n",
              "      box-shadow: 0px 1px 3px 1px rgba(0, 0, 0, 0.15);\n",
              "      filter: drop-shadow(0px 1px 2px rgba(0, 0, 0, 0.3));\n",
              "      fill: #FFFFFF;\n",
              "    }\n",
              "  </style>\n",
              "\n",
              "      <script>\n",
              "        const buttonEl =\n",
              "          document.querySelector('#df-f895f082-5bdf-44e2-968b-9555b517b613 button.colab-df-convert');\n",
              "        buttonEl.style.display =\n",
              "          google.colab.kernel.accessAllowed ? 'block' : 'none';\n",
              "\n",
              "        async function convertToInteractive(key) {\n",
              "          const element = document.querySelector('#df-f895f082-5bdf-44e2-968b-9555b517b613');\n",
              "          const dataTable =\n",
              "            await google.colab.kernel.invokeFunction('convertToInteractive',\n",
              "                                                     [key], {});\n",
              "          if (!dataTable) return;\n",
              "\n",
              "          const docLinkHtml = 'Like what you see? Visit the ' +\n",
              "            '<a target=\"_blank\" href=https://colab.research.google.com/notebooks/data_table.ipynb>data table notebook</a>'\n",
              "            + ' to learn more about interactive tables.';\n",
              "          element.innerHTML = '';\n",
              "          dataTable['output_type'] = 'display_data';\n",
              "          await google.colab.output.renderOutput(dataTable, element);\n",
              "          const docLink = document.createElement('div');\n",
              "          docLink.innerHTML = docLinkHtml;\n",
              "          element.appendChild(docLink);\n",
              "        }\n",
              "      </script>\n",
              "    </div>\n",
              "  </div>\n",
              "  "
            ]
          },
          "metadata": {},
          "execution_count": 72
        }
      ]
    },
    {
      "cell_type": "code",
      "source": [
        "test_data_copy.head()"
      ],
      "metadata": {
        "colab": {
          "base_uri": "https://localhost:8080/",
          "height": 206
        },
        "id": "hEtVbmCa0-II",
        "outputId": "ca867e1e-10bd-499f-d0ad-aabe24a93c35"
      },
      "execution_count": 65,
      "outputs": [
        {
          "output_type": "execute_result",
          "data": {
            "text/plain": [
              "   product_id   sale  shop_id       shop_title    rating  \\\n",
              "1     1997646  False    22758  Sky_Electronics  5.000000   \n",
              "2      927375  False    17729     Di-Di Market  4.405941   \n",
              "3     1921513  False    54327      VisionStore  4.000000   \n",
              "4     1668662  False    15000         FORNAILS  5.000000   \n",
              "5     1467778  False    39600        МОЯ КУХНЯ  5.000000   \n",
              "\n",
              "                                         text_fields  \n",
              "1  {\"title\": \"Светодиодная лента Smart led Strip ...  \n",
              "2  {\"title\": \"Стекло ПЛЕНКА керамик матовое Honor...  \n",
              "3  {\"title\": \"Проводные наушники с микрофоном jac...  \n",
              "4  {\"title\": \"Декоративная табличка \\\"Правила кух...  \n",
              "5  {\"title\": \"Подставка под ложку керамическая, п...  "
            ],
            "text/html": [
              "\n",
              "  <div id=\"df-c6a94eeb-c131-4327-8355-9107182f8d47\">\n",
              "    <div class=\"colab-df-container\">\n",
              "      <div>\n",
              "<style scoped>\n",
              "    .dataframe tbody tr th:only-of-type {\n",
              "        vertical-align: middle;\n",
              "    }\n",
              "\n",
              "    .dataframe tbody tr th {\n",
              "        vertical-align: top;\n",
              "    }\n",
              "\n",
              "    .dataframe thead th {\n",
              "        text-align: right;\n",
              "    }\n",
              "</style>\n",
              "<table border=\"1\" class=\"dataframe\">\n",
              "  <thead>\n",
              "    <tr style=\"text-align: right;\">\n",
              "      <th></th>\n",
              "      <th>product_id</th>\n",
              "      <th>sale</th>\n",
              "      <th>shop_id</th>\n",
              "      <th>shop_title</th>\n",
              "      <th>rating</th>\n",
              "      <th>text_fields</th>\n",
              "    </tr>\n",
              "  </thead>\n",
              "  <tbody>\n",
              "    <tr>\n",
              "      <th>1</th>\n",
              "      <td>1997646</td>\n",
              "      <td>False</td>\n",
              "      <td>22758</td>\n",
              "      <td>Sky_Electronics</td>\n",
              "      <td>5.000000</td>\n",
              "      <td>{\"title\": \"Светодиодная лента Smart led Strip ...</td>\n",
              "    </tr>\n",
              "    <tr>\n",
              "      <th>2</th>\n",
              "      <td>927375</td>\n",
              "      <td>False</td>\n",
              "      <td>17729</td>\n",
              "      <td>Di-Di Market</td>\n",
              "      <td>4.405941</td>\n",
              "      <td>{\"title\": \"Стекло ПЛЕНКА керамик матовое Honor...</td>\n",
              "    </tr>\n",
              "    <tr>\n",
              "      <th>3</th>\n",
              "      <td>1921513</td>\n",
              "      <td>False</td>\n",
              "      <td>54327</td>\n",
              "      <td>VisionStore</td>\n",
              "      <td>4.000000</td>\n",
              "      <td>{\"title\": \"Проводные наушники с микрофоном jac...</td>\n",
              "    </tr>\n",
              "    <tr>\n",
              "      <th>4</th>\n",
              "      <td>1668662</td>\n",
              "      <td>False</td>\n",
              "      <td>15000</td>\n",
              "      <td>FORNAILS</td>\n",
              "      <td>5.000000</td>\n",
              "      <td>{\"title\": \"Декоративная табличка \\\"Правила кух...</td>\n",
              "    </tr>\n",
              "    <tr>\n",
              "      <th>5</th>\n",
              "      <td>1467778</td>\n",
              "      <td>False</td>\n",
              "      <td>39600</td>\n",
              "      <td>МОЯ КУХНЯ</td>\n",
              "      <td>5.000000</td>\n",
              "      <td>{\"title\": \"Подставка под ложку керамическая, п...</td>\n",
              "    </tr>\n",
              "  </tbody>\n",
              "</table>\n",
              "</div>\n",
              "      <button class=\"colab-df-convert\" onclick=\"convertToInteractive('df-c6a94eeb-c131-4327-8355-9107182f8d47')\"\n",
              "              title=\"Convert this dataframe to an interactive table.\"\n",
              "              style=\"display:none;\">\n",
              "        \n",
              "  <svg xmlns=\"http://www.w3.org/2000/svg\" height=\"24px\"viewBox=\"0 0 24 24\"\n",
              "       width=\"24px\">\n",
              "    <path d=\"M0 0h24v24H0V0z\" fill=\"none\"/>\n",
              "    <path d=\"M18.56 5.44l.94 2.06.94-2.06 2.06-.94-2.06-.94-.94-2.06-.94 2.06-2.06.94zm-11 1L8.5 8.5l.94-2.06 2.06-.94-2.06-.94L8.5 2.5l-.94 2.06-2.06.94zm10 10l.94 2.06.94-2.06 2.06-.94-2.06-.94-.94-2.06-.94 2.06-2.06.94z\"/><path d=\"M17.41 7.96l-1.37-1.37c-.4-.4-.92-.59-1.43-.59-.52 0-1.04.2-1.43.59L10.3 9.45l-7.72 7.72c-.78.78-.78 2.05 0 2.83L4 21.41c.39.39.9.59 1.41.59.51 0 1.02-.2 1.41-.59l7.78-7.78 2.81-2.81c.8-.78.8-2.07 0-2.86zM5.41 20L4 18.59l7.72-7.72 1.47 1.35L5.41 20z\"/>\n",
              "  </svg>\n",
              "      </button>\n",
              "      \n",
              "  <style>\n",
              "    .colab-df-container {\n",
              "      display:flex;\n",
              "      flex-wrap:wrap;\n",
              "      gap: 12px;\n",
              "    }\n",
              "\n",
              "    .colab-df-convert {\n",
              "      background-color: #E8F0FE;\n",
              "      border: none;\n",
              "      border-radius: 50%;\n",
              "      cursor: pointer;\n",
              "      display: none;\n",
              "      fill: #1967D2;\n",
              "      height: 32px;\n",
              "      padding: 0 0 0 0;\n",
              "      width: 32px;\n",
              "    }\n",
              "\n",
              "    .colab-df-convert:hover {\n",
              "      background-color: #E2EBFA;\n",
              "      box-shadow: 0px 1px 2px rgba(60, 64, 67, 0.3), 0px 1px 3px 1px rgba(60, 64, 67, 0.15);\n",
              "      fill: #174EA6;\n",
              "    }\n",
              "\n",
              "    [theme=dark] .colab-df-convert {\n",
              "      background-color: #3B4455;\n",
              "      fill: #D2E3FC;\n",
              "    }\n",
              "\n",
              "    [theme=dark] .colab-df-convert:hover {\n",
              "      background-color: #434B5C;\n",
              "      box-shadow: 0px 1px 3px 1px rgba(0, 0, 0, 0.15);\n",
              "      filter: drop-shadow(0px 1px 2px rgba(0, 0, 0, 0.3));\n",
              "      fill: #FFFFFF;\n",
              "    }\n",
              "  </style>\n",
              "\n",
              "      <script>\n",
              "        const buttonEl =\n",
              "          document.querySelector('#df-c6a94eeb-c131-4327-8355-9107182f8d47 button.colab-df-convert');\n",
              "        buttonEl.style.display =\n",
              "          google.colab.kernel.accessAllowed ? 'block' : 'none';\n",
              "\n",
              "        async function convertToInteractive(key) {\n",
              "          const element = document.querySelector('#df-c6a94eeb-c131-4327-8355-9107182f8d47');\n",
              "          const dataTable =\n",
              "            await google.colab.kernel.invokeFunction('convertToInteractive',\n",
              "                                                     [key], {});\n",
              "          if (!dataTable) return;\n",
              "\n",
              "          const docLinkHtml = 'Like what you see? Visit the ' +\n",
              "            '<a target=\"_blank\" href=https://colab.research.google.com/notebooks/data_table.ipynb>data table notebook</a>'\n",
              "            + ' to learn more about interactive tables.';\n",
              "          element.innerHTML = '';\n",
              "          dataTable['output_type'] = 'display_data';\n",
              "          await google.colab.output.renderOutput(dataTable, element);\n",
              "          const docLink = document.createElement('div');\n",
              "          docLink.innerHTML = docLinkHtml;\n",
              "          element.appendChild(docLink);\n",
              "        }\n",
              "      </script>\n",
              "    </div>\n",
              "  </div>\n",
              "  "
            ]
          },
          "metadata": {},
          "execution_count": 65
        }
      ]
    },
    {
      "cell_type": "code",
      "source": [
        "test_data_copy.loc[243\n",
        "                   ]"
      ],
      "metadata": {
        "colab": {
          "base_uri": "https://localhost:8080/"
        },
        "id": "-5vbm8KY4k6c",
        "outputId": "eaa40a54-73e2-42c9-86a5-18d6eb8c2e6a"
      },
      "execution_count": 66,
      "outputs": [
        {
          "output_type": "execute_result",
          "data": {
            "text/plain": [
              "product_id                                               1625690\n",
              "sale                                                       False\n",
              "shop_id                                                    45806\n",
              "shop_title                            ООО «ТК Домашний Текстиль»\n",
              "rating                                                  4.666667\n",
              "text_fields    {\"title\": \"Подушка \\\"Mia Cara\\\" wellness 70х70...\n",
              "Name: 243, dtype: object"
            ]
          },
          "metadata": {},
          "execution_count": 66
        }
      ]
    },
    {
      "cell_type": "code",
      "source": [
        "test_data_copy['category_name'] = 0"
      ],
      "metadata": {
        "id": "f_18nU8502wd"
      },
      "execution_count": 67,
      "outputs": []
    },
    {
      "cell_type": "code",
      "source": [
        "# list_cats = []\n",
        "# list_all_cats = []\n",
        "\n",
        "# for i in test_data_copy['product_id']:\n",
        "#     id_product = i\n",
        "#     url = f'https://api.kazanexpress.ru/api/v2/product/{id_product}' # Формируем урл\n",
        "#     print(url)\n",
        "#     request = requests.get(url)           # GET Запрос\n",
        "#     print(f'Статус запроса : {request}')                # Ответ\n",
        "#     res_req = json.loads(request.text)         \n",
        "#     counter = 0\n",
        "#     try:\n",
        "#         var_ = dict_to_lists(res_req)\n",
        "#     except:\n",
        "#         counter += 1\n",
        "\n",
        "#     for elem in var_:\n",
        "#         list_cats.append(elem[1])\n",
        "\n",
        "\n",
        "#     res_str = ' '.join(list_cats)\n",
        "#     list_all_cats.extend(res_str)"
      ],
      "metadata": {
        "id": "9EmJ_ML_05hV"
      },
      "execution_count": 68,
      "outputs": []
    },
    {
      "cell_type": "code",
      "source": [
        "# list_all_cats"
      ],
      "metadata": {
        "colab": {
          "base_uri": "https://localhost:8080/",
          "height": 171
        },
        "id": "3w317FhS2Dps",
        "outputId": "8f6f13ce-5224-4b29-96ce-d1235bcb1c4e"
      },
      "execution_count": 69,
      "outputs": [
        {
          "output_type": "error",
          "ename": "NameError",
          "evalue": "ignored",
          "traceback": [
            "\u001b[0;31m---------------------------------------------------------------------------\u001b[0m",
            "\u001b[0;31mNameError\u001b[0m                                 Traceback (most recent call last)",
            "\u001b[0;32m<ipython-input-69-eec9931641cb>\u001b[0m in \u001b[0;36m<module>\u001b[0;34m\u001b[0m\n\u001b[0;32m----> 1\u001b[0;31m \u001b[0mlist_all_cats\u001b[0m\u001b[0;34m\u001b[0m\u001b[0;34m\u001b[0m\u001b[0m\n\u001b[0m",
            "\u001b[0;31mNameError\u001b[0m: name 'list_all_cats' is not defined"
          ]
        }
      ]
    },
    {
      "cell_type": "code",
      "source": [
        "final_test_data = str_to_df(test_data)"
      ],
      "metadata": {
        "id": "EOFkmv-53UPd"
      },
      "execution_count": 73,
      "outputs": []
    },
    {
      "cell_type": "code",
      "source": [
        "final_test_data.head()"
      ],
      "metadata": {
        "colab": {
          "base_uri": "https://localhost:8080/",
          "height": 510
        },
        "id": "szgoWpD9Fnix",
        "outputId": "09b78460-f0b0-4097-9f42-3725a81d7c66"
      },
      "execution_count": 74,
      "outputs": [
        {
          "output_type": "execute_result",
          "data": {
            "text/plain": [
              "   product_id   sale  shop_id       shop_title    rating  \\\n",
              "1     1997646  False    22758  Sky_Electronics  5.000000   \n",
              "2      927375  False    17729     Di-Di Market  4.405941   \n",
              "3     1921513  False    54327      VisionStore  4.000000   \n",
              "4     1668662  False    15000         FORNAILS  5.000000   \n",
              "5     1467778  False    39600        МОЯ КУХНЯ  5.000000   \n",
              "\n",
              "                                               title  \\\n",
              "1  Светодиодная лента Smart led Strip Light, с пу...   \n",
              "2  Стекло ПЛЕНКА керамик матовое Honor 50 lite 10...   \n",
              "3  Проводные наушники с микрофоном jack 3.5, IOS,...   \n",
              "4  Декоративная табличка \"Правила кухни\", подстав...   \n",
              "5  Подставка под ложку керамическая, подложка \"Кл...   \n",
              "\n",
              "                                         description  \\\n",
              "1  <p>Светодиодная лента LED, 5 м, RGB (Цветная) ...   \n",
              "2  <p><span style=\"color: rgb(63, 62, 62);\">Защит...   \n",
              "3  <p>Наушники проводные с микрофоном отличное ка...   \n",
              "4  <p>Декоративная табличка \"Правила кухни\" созда...   \n",
              "5  <p>Подложка керамическая с рисунком в подарочн...   \n",
              "\n",
              "                                          attributes  \\\n",
              "1  [Легкость управления с пульта, а так же смартф...   \n",
              "2  [Honor 50 ПЛЕНКА!!!  КРАЯ КЛЕЮТСЯ МОГУТ НЕ ПРО...   \n",
              "3  [Возможность использования как гарнитуры для П...   \n",
              "4                                                 []   \n",
              "5                 [Керамика., Размер: 255*90*30мм; ]   \n",
              "\n",
              "                              custom_characteristics defined_characteristics  \\\n",
              "1                                                 {}                      {}   \n",
              "2  {'Модель': ['8a - Y6 2019', '9x - P Smart Z', ...                      {}   \n",
              "3                                                 {}                      {}   \n",
              "4                                                 {}                      {}   \n",
              "5      {'Модель': ['Клубника', 'Лимоны', 'Лаванда']}                      {}   \n",
              "\n",
              "                                             filters  \n",
              "1  {'Тип питания': ['От сети', 'От USB'], 'В комп...  \n",
              "2  {'Модель устройства': ['Honor 9X', 'Honor 20 P...  \n",
              "3  {'Разъем': ['3.5 мм'], 'Конструкция наушников'...  \n",
              "4                            {'Бренд': ['FORNAILS']}  \n",
              "5       {'Бренд': ['Valleya', 'Valleya', 'Valleya']}  "
            ],
            "text/html": [
              "\n",
              "  <div id=\"df-3376e818-6cb8-446b-af70-1998965ced1d\">\n",
              "    <div class=\"colab-df-container\">\n",
              "      <div>\n",
              "<style scoped>\n",
              "    .dataframe tbody tr th:only-of-type {\n",
              "        vertical-align: middle;\n",
              "    }\n",
              "\n",
              "    .dataframe tbody tr th {\n",
              "        vertical-align: top;\n",
              "    }\n",
              "\n",
              "    .dataframe thead th {\n",
              "        text-align: right;\n",
              "    }\n",
              "</style>\n",
              "<table border=\"1\" class=\"dataframe\">\n",
              "  <thead>\n",
              "    <tr style=\"text-align: right;\">\n",
              "      <th></th>\n",
              "      <th>product_id</th>\n",
              "      <th>sale</th>\n",
              "      <th>shop_id</th>\n",
              "      <th>shop_title</th>\n",
              "      <th>rating</th>\n",
              "      <th>title</th>\n",
              "      <th>description</th>\n",
              "      <th>attributes</th>\n",
              "      <th>custom_characteristics</th>\n",
              "      <th>defined_characteristics</th>\n",
              "      <th>filters</th>\n",
              "    </tr>\n",
              "  </thead>\n",
              "  <tbody>\n",
              "    <tr>\n",
              "      <th>1</th>\n",
              "      <td>1997646</td>\n",
              "      <td>False</td>\n",
              "      <td>22758</td>\n",
              "      <td>Sky_Electronics</td>\n",
              "      <td>5.000000</td>\n",
              "      <td>Светодиодная лента Smart led Strip Light, с пу...</td>\n",
              "      <td>&lt;p&gt;Светодиодная лента LED, 5 м, RGB (Цветная) ...</td>\n",
              "      <td>[Легкость управления с пульта, а так же смартф...</td>\n",
              "      <td>{}</td>\n",
              "      <td>{}</td>\n",
              "      <td>{'Тип питания': ['От сети', 'От USB'], 'В комп...</td>\n",
              "    </tr>\n",
              "    <tr>\n",
              "      <th>2</th>\n",
              "      <td>927375</td>\n",
              "      <td>False</td>\n",
              "      <td>17729</td>\n",
              "      <td>Di-Di Market</td>\n",
              "      <td>4.405941</td>\n",
              "      <td>Стекло ПЛЕНКА керамик матовое Honor 50 lite 10...</td>\n",
              "      <td>&lt;p&gt;&lt;span style=\"color: rgb(63, 62, 62);\"&gt;Защит...</td>\n",
              "      <td>[Honor 50 ПЛЕНКА!!!  КРАЯ КЛЕЮТСЯ МОГУТ НЕ ПРО...</td>\n",
              "      <td>{'Модель': ['8a - Y6 2019', '9x - P Smart Z', ...</td>\n",
              "      <td>{}</td>\n",
              "      <td>{'Модель устройства': ['Honor 9X', 'Honor 20 P...</td>\n",
              "    </tr>\n",
              "    <tr>\n",
              "      <th>3</th>\n",
              "      <td>1921513</td>\n",
              "      <td>False</td>\n",
              "      <td>54327</td>\n",
              "      <td>VisionStore</td>\n",
              "      <td>4.000000</td>\n",
              "      <td>Проводные наушники с микрофоном jack 3.5, IOS,...</td>\n",
              "      <td>&lt;p&gt;Наушники проводные с микрофоном отличное ка...</td>\n",
              "      <td>[Возможность использования как гарнитуры для П...</td>\n",
              "      <td>{}</td>\n",
              "      <td>{}</td>\n",
              "      <td>{'Разъем': ['3.5 мм'], 'Конструкция наушников'...</td>\n",
              "    </tr>\n",
              "    <tr>\n",
              "      <th>4</th>\n",
              "      <td>1668662</td>\n",
              "      <td>False</td>\n",
              "      <td>15000</td>\n",
              "      <td>FORNAILS</td>\n",
              "      <td>5.000000</td>\n",
              "      <td>Декоративная табличка \"Правила кухни\", подстав...</td>\n",
              "      <td>&lt;p&gt;Декоративная табличка \"Правила кухни\" созда...</td>\n",
              "      <td>[]</td>\n",
              "      <td>{}</td>\n",
              "      <td>{}</td>\n",
              "      <td>{'Бренд': ['FORNAILS']}</td>\n",
              "    </tr>\n",
              "    <tr>\n",
              "      <th>5</th>\n",
              "      <td>1467778</td>\n",
              "      <td>False</td>\n",
              "      <td>39600</td>\n",
              "      <td>МОЯ КУХНЯ</td>\n",
              "      <td>5.000000</td>\n",
              "      <td>Подставка под ложку керамическая, подложка \"Кл...</td>\n",
              "      <td>&lt;p&gt;Подложка керамическая с рисунком в подарочн...</td>\n",
              "      <td>[Керамика., Размер: 255*90*30мм; ]</td>\n",
              "      <td>{'Модель': ['Клубника', 'Лимоны', 'Лаванда']}</td>\n",
              "      <td>{}</td>\n",
              "      <td>{'Бренд': ['Valleya', 'Valleya', 'Valleya']}</td>\n",
              "    </tr>\n",
              "  </tbody>\n",
              "</table>\n",
              "</div>\n",
              "      <button class=\"colab-df-convert\" onclick=\"convertToInteractive('df-3376e818-6cb8-446b-af70-1998965ced1d')\"\n",
              "              title=\"Convert this dataframe to an interactive table.\"\n",
              "              style=\"display:none;\">\n",
              "        \n",
              "  <svg xmlns=\"http://www.w3.org/2000/svg\" height=\"24px\"viewBox=\"0 0 24 24\"\n",
              "       width=\"24px\">\n",
              "    <path d=\"M0 0h24v24H0V0z\" fill=\"none\"/>\n",
              "    <path d=\"M18.56 5.44l.94 2.06.94-2.06 2.06-.94-2.06-.94-.94-2.06-.94 2.06-2.06.94zm-11 1L8.5 8.5l.94-2.06 2.06-.94-2.06-.94L8.5 2.5l-.94 2.06-2.06.94zm10 10l.94 2.06.94-2.06 2.06-.94-2.06-.94-.94-2.06-.94 2.06-2.06.94z\"/><path d=\"M17.41 7.96l-1.37-1.37c-.4-.4-.92-.59-1.43-.59-.52 0-1.04.2-1.43.59L10.3 9.45l-7.72 7.72c-.78.78-.78 2.05 0 2.83L4 21.41c.39.39.9.59 1.41.59.51 0 1.02-.2 1.41-.59l7.78-7.78 2.81-2.81c.8-.78.8-2.07 0-2.86zM5.41 20L4 18.59l7.72-7.72 1.47 1.35L5.41 20z\"/>\n",
              "  </svg>\n",
              "      </button>\n",
              "      \n",
              "  <style>\n",
              "    .colab-df-container {\n",
              "      display:flex;\n",
              "      flex-wrap:wrap;\n",
              "      gap: 12px;\n",
              "    }\n",
              "\n",
              "    .colab-df-convert {\n",
              "      background-color: #E8F0FE;\n",
              "      border: none;\n",
              "      border-radius: 50%;\n",
              "      cursor: pointer;\n",
              "      display: none;\n",
              "      fill: #1967D2;\n",
              "      height: 32px;\n",
              "      padding: 0 0 0 0;\n",
              "      width: 32px;\n",
              "    }\n",
              "\n",
              "    .colab-df-convert:hover {\n",
              "      background-color: #E2EBFA;\n",
              "      box-shadow: 0px 1px 2px rgba(60, 64, 67, 0.3), 0px 1px 3px 1px rgba(60, 64, 67, 0.15);\n",
              "      fill: #174EA6;\n",
              "    }\n",
              "\n",
              "    [theme=dark] .colab-df-convert {\n",
              "      background-color: #3B4455;\n",
              "      fill: #D2E3FC;\n",
              "    }\n",
              "\n",
              "    [theme=dark] .colab-df-convert:hover {\n",
              "      background-color: #434B5C;\n",
              "      box-shadow: 0px 1px 3px 1px rgba(0, 0, 0, 0.15);\n",
              "      filter: drop-shadow(0px 1px 2px rgba(0, 0, 0, 0.3));\n",
              "      fill: #FFFFFF;\n",
              "    }\n",
              "  </style>\n",
              "\n",
              "      <script>\n",
              "        const buttonEl =\n",
              "          document.querySelector('#df-3376e818-6cb8-446b-af70-1998965ced1d button.colab-df-convert');\n",
              "        buttonEl.style.display =\n",
              "          google.colab.kernel.accessAllowed ? 'block' : 'none';\n",
              "\n",
              "        async function convertToInteractive(key) {\n",
              "          const element = document.querySelector('#df-3376e818-6cb8-446b-af70-1998965ced1d');\n",
              "          const dataTable =\n",
              "            await google.colab.kernel.invokeFunction('convertToInteractive',\n",
              "                                                     [key], {});\n",
              "          if (!dataTable) return;\n",
              "\n",
              "          const docLinkHtml = 'Like what you see? Visit the ' +\n",
              "            '<a target=\"_blank\" href=https://colab.research.google.com/notebooks/data_table.ipynb>data table notebook</a>'\n",
              "            + ' to learn more about interactive tables.';\n",
              "          element.innerHTML = '';\n",
              "          dataTable['output_type'] = 'display_data';\n",
              "          await google.colab.output.renderOutput(dataTable, element);\n",
              "          const docLink = document.createElement('div');\n",
              "          docLink.innerHTML = docLinkHtml;\n",
              "          element.appendChild(docLink);\n",
              "        }\n",
              "      </script>\n",
              "    </div>\n",
              "  </div>\n",
              "  "
            ]
          },
          "metadata": {},
          "execution_count": 74
        }
      ]
    },
    {
      "cell_type": "code",
      "source": [
        "ffinal_test = obrabotka(final_test_data)"
      ],
      "metadata": {
        "colab": {
          "base_uri": "https://localhost:8080/"
        },
        "id": "cNKwpKBBFmhO",
        "outputId": "e744c36f-4bff-49cc-8757-8ce92d323370"
      },
      "execution_count": 77,
      "outputs": [
        {
          "output_type": "stream",
          "name": "stdout",
          "text": [
            "Takogo stolbca net!\n"
          ]
        },
        {
          "output_type": "stream",
          "name": "stderr",
          "text": [
            "<ipython-input-76-144c6fcdf7c8>:14: SettingWithCopyWarning: \n",
            "A value is trying to be set on a copy of a slice from a DataFrame\n",
            "\n",
            "See the caveats in the documentation: https://pandas.pydata.org/pandas-docs/stable/user_guide/indexing.html#returning-a-view-versus-a-copy\n",
            "  final_train_data_copy['attributes'][i] = 'Отсутствуют'\n"
          ]
        }
      ]
    },
    {
      "cell_type": "code",
      "source": [
        "ffinal_test.head()"
      ],
      "metadata": {
        "colab": {
          "base_uri": "https://localhost:8080/",
          "height": 337
        },
        "id": "WQeTJeeiGGTd",
        "outputId": "29e26773-968d-4f73-fcd6-cfd97c1a7b76"
      },
      "execution_count": 78,
      "outputs": [
        {
          "output_type": "execute_result",
          "data": {
            "text/plain": [
              "   product_id   sale  shop_id       shop_title    rating  \\\n",
              "1     1997646  False    22758  Sky_Electronics  5.000000   \n",
              "2      927375  False    17729     Di-Di Market  4.405941   \n",
              "3     1921513  False    54327      VisionStore  4.000000   \n",
              "4     1668662  False    15000         FORNAILS  5.000000   \n",
              "5     1467778  False    39600        МОЯ КУХНЯ  5.000000   \n",
              "\n",
              "                                               title  \\\n",
              "1  Светодиодная лента Smart led Strip Light с пул...   \n",
              "2  Стекло ПЛЕНКА керамик матовое Honor 50 lite 10...   \n",
              "3  Проводные наушники с микрофоном jack 35 IOS An...   \n",
              "4  Декоративная табличка Правила кухни подставка ...   \n",
              "5  Подставка под ложку керамическая подложка Клуб...   \n",
              "\n",
              "                                         description  \\\n",
              "1  Светодиодная лента м Цветная влагостойкая лент...   \n",
              "2  Защитное матовое керамическое стекло эффективн...   \n",
              "3  Наушники проводные с микрофоном отличное качес...   \n",
              "4  Декоративная табличка Правила кухни создаст не...   \n",
              "5  Подложка керамическая с рисунком в подарочной ...   \n",
              "\n",
              "                                          attributes  \n",
              "1  Легкость управления с пульта, а так же смартфо...  \n",
              "2  Honor 50 ПЛЕНКА!!!  КРАЯ КЛЕЮТСЯ МОГУТ НЕ ПРОК...  \n",
              "3  Возможность использования как гарнитуры для ПК...  \n",
              "4                                        Отсутствуют  \n",
              "5                     Керамика. Размер 255*90*30мм;   "
            ],
            "text/html": [
              "\n",
              "  <div id=\"df-a5cda511-847d-4826-8b51-f3aa1dd499ff\">\n",
              "    <div class=\"colab-df-container\">\n",
              "      <div>\n",
              "<style scoped>\n",
              "    .dataframe tbody tr th:only-of-type {\n",
              "        vertical-align: middle;\n",
              "    }\n",
              "\n",
              "    .dataframe tbody tr th {\n",
              "        vertical-align: top;\n",
              "    }\n",
              "\n",
              "    .dataframe thead th {\n",
              "        text-align: right;\n",
              "    }\n",
              "</style>\n",
              "<table border=\"1\" class=\"dataframe\">\n",
              "  <thead>\n",
              "    <tr style=\"text-align: right;\">\n",
              "      <th></th>\n",
              "      <th>product_id</th>\n",
              "      <th>sale</th>\n",
              "      <th>shop_id</th>\n",
              "      <th>shop_title</th>\n",
              "      <th>rating</th>\n",
              "      <th>title</th>\n",
              "      <th>description</th>\n",
              "      <th>attributes</th>\n",
              "    </tr>\n",
              "  </thead>\n",
              "  <tbody>\n",
              "    <tr>\n",
              "      <th>1</th>\n",
              "      <td>1997646</td>\n",
              "      <td>False</td>\n",
              "      <td>22758</td>\n",
              "      <td>Sky_Electronics</td>\n",
              "      <td>5.000000</td>\n",
              "      <td>Светодиодная лента Smart led Strip Light с пул...</td>\n",
              "      <td>Светодиодная лента м Цветная влагостойкая лент...</td>\n",
              "      <td>Легкость управления с пульта, а так же смартфо...</td>\n",
              "    </tr>\n",
              "    <tr>\n",
              "      <th>2</th>\n",
              "      <td>927375</td>\n",
              "      <td>False</td>\n",
              "      <td>17729</td>\n",
              "      <td>Di-Di Market</td>\n",
              "      <td>4.405941</td>\n",
              "      <td>Стекло ПЛЕНКА керамик матовое Honor 50 lite 10...</td>\n",
              "      <td>Защитное матовое керамическое стекло эффективн...</td>\n",
              "      <td>Honor 50 ПЛЕНКА!!!  КРАЯ КЛЕЮТСЯ МОГУТ НЕ ПРОК...</td>\n",
              "    </tr>\n",
              "    <tr>\n",
              "      <th>3</th>\n",
              "      <td>1921513</td>\n",
              "      <td>False</td>\n",
              "      <td>54327</td>\n",
              "      <td>VisionStore</td>\n",
              "      <td>4.000000</td>\n",
              "      <td>Проводные наушники с микрофоном jack 35 IOS An...</td>\n",
              "      <td>Наушники проводные с микрофоном отличное качес...</td>\n",
              "      <td>Возможность использования как гарнитуры для ПК...</td>\n",
              "    </tr>\n",
              "    <tr>\n",
              "      <th>4</th>\n",
              "      <td>1668662</td>\n",
              "      <td>False</td>\n",
              "      <td>15000</td>\n",
              "      <td>FORNAILS</td>\n",
              "      <td>5.000000</td>\n",
              "      <td>Декоративная табличка Правила кухни подставка ...</td>\n",
              "      <td>Декоративная табличка Правила кухни создаст не...</td>\n",
              "      <td>Отсутствуют</td>\n",
              "    </tr>\n",
              "    <tr>\n",
              "      <th>5</th>\n",
              "      <td>1467778</td>\n",
              "      <td>False</td>\n",
              "      <td>39600</td>\n",
              "      <td>МОЯ КУХНЯ</td>\n",
              "      <td>5.000000</td>\n",
              "      <td>Подставка под ложку керамическая подложка Клуб...</td>\n",
              "      <td>Подложка керамическая с рисунком в подарочной ...</td>\n",
              "      <td>Керамика. Размер 255*90*30мм;</td>\n",
              "    </tr>\n",
              "  </tbody>\n",
              "</table>\n",
              "</div>\n",
              "      <button class=\"colab-df-convert\" onclick=\"convertToInteractive('df-a5cda511-847d-4826-8b51-f3aa1dd499ff')\"\n",
              "              title=\"Convert this dataframe to an interactive table.\"\n",
              "              style=\"display:none;\">\n",
              "        \n",
              "  <svg xmlns=\"http://www.w3.org/2000/svg\" height=\"24px\"viewBox=\"0 0 24 24\"\n",
              "       width=\"24px\">\n",
              "    <path d=\"M0 0h24v24H0V0z\" fill=\"none\"/>\n",
              "    <path d=\"M18.56 5.44l.94 2.06.94-2.06 2.06-.94-2.06-.94-.94-2.06-.94 2.06-2.06.94zm-11 1L8.5 8.5l.94-2.06 2.06-.94-2.06-.94L8.5 2.5l-.94 2.06-2.06.94zm10 10l.94 2.06.94-2.06 2.06-.94-2.06-.94-.94-2.06-.94 2.06-2.06.94z\"/><path d=\"M17.41 7.96l-1.37-1.37c-.4-.4-.92-.59-1.43-.59-.52 0-1.04.2-1.43.59L10.3 9.45l-7.72 7.72c-.78.78-.78 2.05 0 2.83L4 21.41c.39.39.9.59 1.41.59.51 0 1.02-.2 1.41-.59l7.78-7.78 2.81-2.81c.8-.78.8-2.07 0-2.86zM5.41 20L4 18.59l7.72-7.72 1.47 1.35L5.41 20z\"/>\n",
              "  </svg>\n",
              "      </button>\n",
              "      \n",
              "  <style>\n",
              "    .colab-df-container {\n",
              "      display:flex;\n",
              "      flex-wrap:wrap;\n",
              "      gap: 12px;\n",
              "    }\n",
              "\n",
              "    .colab-df-convert {\n",
              "      background-color: #E8F0FE;\n",
              "      border: none;\n",
              "      border-radius: 50%;\n",
              "      cursor: pointer;\n",
              "      display: none;\n",
              "      fill: #1967D2;\n",
              "      height: 32px;\n",
              "      padding: 0 0 0 0;\n",
              "      width: 32px;\n",
              "    }\n",
              "\n",
              "    .colab-df-convert:hover {\n",
              "      background-color: #E2EBFA;\n",
              "      box-shadow: 0px 1px 2px rgba(60, 64, 67, 0.3), 0px 1px 3px 1px rgba(60, 64, 67, 0.15);\n",
              "      fill: #174EA6;\n",
              "    }\n",
              "\n",
              "    [theme=dark] .colab-df-convert {\n",
              "      background-color: #3B4455;\n",
              "      fill: #D2E3FC;\n",
              "    }\n",
              "\n",
              "    [theme=dark] .colab-df-convert:hover {\n",
              "      background-color: #434B5C;\n",
              "      box-shadow: 0px 1px 3px 1px rgba(0, 0, 0, 0.15);\n",
              "      filter: drop-shadow(0px 1px 2px rgba(0, 0, 0, 0.3));\n",
              "      fill: #FFFFFF;\n",
              "    }\n",
              "  </style>\n",
              "\n",
              "      <script>\n",
              "        const buttonEl =\n",
              "          document.querySelector('#df-a5cda511-847d-4826-8b51-f3aa1dd499ff button.colab-df-convert');\n",
              "        buttonEl.style.display =\n",
              "          google.colab.kernel.accessAllowed ? 'block' : 'none';\n",
              "\n",
              "        async function convertToInteractive(key) {\n",
              "          const element = document.querySelector('#df-a5cda511-847d-4826-8b51-f3aa1dd499ff');\n",
              "          const dataTable =\n",
              "            await google.colab.kernel.invokeFunction('convertToInteractive',\n",
              "                                                     [key], {});\n",
              "          if (!dataTable) return;\n",
              "\n",
              "          const docLinkHtml = 'Like what you see? Visit the ' +\n",
              "            '<a target=\"_blank\" href=https://colab.research.google.com/notebooks/data_table.ipynb>data table notebook</a>'\n",
              "            + ' to learn more about interactive tables.';\n",
              "          element.innerHTML = '';\n",
              "          dataTable['output_type'] = 'display_data';\n",
              "          await google.colab.output.renderOutput(dataTable, element);\n",
              "          const docLink = document.createElement('div');\n",
              "          docLink.innerHTML = docLinkHtml;\n",
              "          element.appendChild(docLink);\n",
              "        }\n",
              "      </script>\n",
              "    </div>\n",
              "  </div>\n",
              "  "
            ]
          },
          "metadata": {},
          "execution_count": 78
        }
      ]
    },
    {
      "cell_type": "code",
      "source": [
        "df_train_final.head()"
      ],
      "metadata": {
        "colab": {
          "base_uri": "https://localhost:8080/",
          "height": 371
        },
        "id": "QotXFnIKGbwm",
        "outputId": "86ddb16c-dc35-466a-c05e-7525885a0f23"
      },
      "execution_count": 80,
      "outputs": [
        {
          "output_type": "execute_result",
          "data": {
            "text/plain": [
              "   product_id  category_id   sale  shop_id           shop_title  rating  \\\n",
              "0      325286        12171  False     9031                Aksik     5.0   \n",
              "1      888134        14233  False    18305                 Sela     5.0   \n",
              "3     1267173        13429  False    16357  ЮНЛАНДИЯ канцтовары     5.0   \n",
              "4     1416943         2789  False    34666        вася-nicotine     4.0   \n",
              "5     1058275        12834  False    26389           Lim Market     4.6   \n",
              "\n",
              "                                       category_name  \\\n",
              "0  Электроника Смартфоны и телефоны Аксессуары и ...   \n",
              "1     Одежда Женская одежда Белье и купальники Трусы   \n",
              "3      Хобби и творчество Рисование Краски, пигменты   \n",
              "4  Хобби и творчество Товары для курения Кальяны ...   \n",
              "5       Одежда Женская одежда Домашняя одежда Пижамы   \n",
              "\n",
              "                                               title  \\\n",
              "0  Зарядный кабель Borofone BX1 Lightning для айф...   \n",
              "1                                         Трусы Sela   \n",
              "3  Гуашь ЮНЫЙ ВОЛШЕБНИК 12 цветов по 35 мл БОЛЬШИ...   \n",
              "4               Колба для кальяна Крафт разные цвета   \n",
              "5                Пижама женская однотонная с шортами   \n",
              "\n",
              "                                         description  \\\n",
              "0  Зарядный кабель подходит для зарядки всех гадж...   \n",
              "1  Трусы слипы из эластичного бесшовного трикотаж...   \n",
              "3  Гуашь высшего качества ЮНЛАНДИЯ поможет создат...   \n",
              "4  Универсальная колба для кальяна подходит почти...   \n",
              "5  Лёгкая ткань Комфортная посадка Идеальная длин...   \n",
              "\n",
              "                                          attributes  \n",
              "0  Длина 1м Разъем Lightning Подерживает быструю ...  \n",
              "1                                        Отсутствуют  \n",
              "3                                        Отсутствуют  \n",
              "4  Материал стекло Внутренний диаметр 45 мм  Высо...  \n",
              "5                                        Отсутствуют  "
            ],
            "text/html": [
              "\n",
              "  <div id=\"df-943da1b2-c071-4ee9-996b-5eab8bf53d62\">\n",
              "    <div class=\"colab-df-container\">\n",
              "      <div>\n",
              "<style scoped>\n",
              "    .dataframe tbody tr th:only-of-type {\n",
              "        vertical-align: middle;\n",
              "    }\n",
              "\n",
              "    .dataframe tbody tr th {\n",
              "        vertical-align: top;\n",
              "    }\n",
              "\n",
              "    .dataframe thead th {\n",
              "        text-align: right;\n",
              "    }\n",
              "</style>\n",
              "<table border=\"1\" class=\"dataframe\">\n",
              "  <thead>\n",
              "    <tr style=\"text-align: right;\">\n",
              "      <th></th>\n",
              "      <th>product_id</th>\n",
              "      <th>category_id</th>\n",
              "      <th>sale</th>\n",
              "      <th>shop_id</th>\n",
              "      <th>shop_title</th>\n",
              "      <th>rating</th>\n",
              "      <th>category_name</th>\n",
              "      <th>title</th>\n",
              "      <th>description</th>\n",
              "      <th>attributes</th>\n",
              "    </tr>\n",
              "  </thead>\n",
              "  <tbody>\n",
              "    <tr>\n",
              "      <th>0</th>\n",
              "      <td>325286</td>\n",
              "      <td>12171</td>\n",
              "      <td>False</td>\n",
              "      <td>9031</td>\n",
              "      <td>Aksik</td>\n",
              "      <td>5.0</td>\n",
              "      <td>Электроника Смартфоны и телефоны Аксессуары и ...</td>\n",
              "      <td>Зарядный кабель Borofone BX1 Lightning для айф...</td>\n",
              "      <td>Зарядный кабель подходит для зарядки всех гадж...</td>\n",
              "      <td>Длина 1м Разъем Lightning Подерживает быструю ...</td>\n",
              "    </tr>\n",
              "    <tr>\n",
              "      <th>1</th>\n",
              "      <td>888134</td>\n",
              "      <td>14233</td>\n",
              "      <td>False</td>\n",
              "      <td>18305</td>\n",
              "      <td>Sela</td>\n",
              "      <td>5.0</td>\n",
              "      <td>Одежда Женская одежда Белье и купальники Трусы</td>\n",
              "      <td>Трусы Sela</td>\n",
              "      <td>Трусы слипы из эластичного бесшовного трикотаж...</td>\n",
              "      <td>Отсутствуют</td>\n",
              "    </tr>\n",
              "    <tr>\n",
              "      <th>3</th>\n",
              "      <td>1267173</td>\n",
              "      <td>13429</td>\n",
              "      <td>False</td>\n",
              "      <td>16357</td>\n",
              "      <td>ЮНЛАНДИЯ канцтовары</td>\n",
              "      <td>5.0</td>\n",
              "      <td>Хобби и творчество Рисование Краски, пигменты</td>\n",
              "      <td>Гуашь ЮНЫЙ ВОЛШЕБНИК 12 цветов по 35 мл БОЛЬШИ...</td>\n",
              "      <td>Гуашь высшего качества ЮНЛАНДИЯ поможет создат...</td>\n",
              "      <td>Отсутствуют</td>\n",
              "    </tr>\n",
              "    <tr>\n",
              "      <th>4</th>\n",
              "      <td>1416943</td>\n",
              "      <td>2789</td>\n",
              "      <td>False</td>\n",
              "      <td>34666</td>\n",
              "      <td>вася-nicotine</td>\n",
              "      <td>4.0</td>\n",
              "      <td>Хобби и творчество Товары для курения Кальяны ...</td>\n",
              "      <td>Колба для кальяна Крафт разные цвета</td>\n",
              "      <td>Универсальная колба для кальяна подходит почти...</td>\n",
              "      <td>Материал стекло Внутренний диаметр 45 мм  Высо...</td>\n",
              "    </tr>\n",
              "    <tr>\n",
              "      <th>5</th>\n",
              "      <td>1058275</td>\n",
              "      <td>12834</td>\n",
              "      <td>False</td>\n",
              "      <td>26389</td>\n",
              "      <td>Lim Market</td>\n",
              "      <td>4.6</td>\n",
              "      <td>Одежда Женская одежда Домашняя одежда Пижамы</td>\n",
              "      <td>Пижама женская однотонная с шортами</td>\n",
              "      <td>Лёгкая ткань Комфортная посадка Идеальная длин...</td>\n",
              "      <td>Отсутствуют</td>\n",
              "    </tr>\n",
              "  </tbody>\n",
              "</table>\n",
              "</div>\n",
              "      <button class=\"colab-df-convert\" onclick=\"convertToInteractive('df-943da1b2-c071-4ee9-996b-5eab8bf53d62')\"\n",
              "              title=\"Convert this dataframe to an interactive table.\"\n",
              "              style=\"display:none;\">\n",
              "        \n",
              "  <svg xmlns=\"http://www.w3.org/2000/svg\" height=\"24px\"viewBox=\"0 0 24 24\"\n",
              "       width=\"24px\">\n",
              "    <path d=\"M0 0h24v24H0V0z\" fill=\"none\"/>\n",
              "    <path d=\"M18.56 5.44l.94 2.06.94-2.06 2.06-.94-2.06-.94-.94-2.06-.94 2.06-2.06.94zm-11 1L8.5 8.5l.94-2.06 2.06-.94-2.06-.94L8.5 2.5l-.94 2.06-2.06.94zm10 10l.94 2.06.94-2.06 2.06-.94-2.06-.94-.94-2.06-.94 2.06-2.06.94z\"/><path d=\"M17.41 7.96l-1.37-1.37c-.4-.4-.92-.59-1.43-.59-.52 0-1.04.2-1.43.59L10.3 9.45l-7.72 7.72c-.78.78-.78 2.05 0 2.83L4 21.41c.39.39.9.59 1.41.59.51 0 1.02-.2 1.41-.59l7.78-7.78 2.81-2.81c.8-.78.8-2.07 0-2.86zM5.41 20L4 18.59l7.72-7.72 1.47 1.35L5.41 20z\"/>\n",
              "  </svg>\n",
              "      </button>\n",
              "      \n",
              "  <style>\n",
              "    .colab-df-container {\n",
              "      display:flex;\n",
              "      flex-wrap:wrap;\n",
              "      gap: 12px;\n",
              "    }\n",
              "\n",
              "    .colab-df-convert {\n",
              "      background-color: #E8F0FE;\n",
              "      border: none;\n",
              "      border-radius: 50%;\n",
              "      cursor: pointer;\n",
              "      display: none;\n",
              "      fill: #1967D2;\n",
              "      height: 32px;\n",
              "      padding: 0 0 0 0;\n",
              "      width: 32px;\n",
              "    }\n",
              "\n",
              "    .colab-df-convert:hover {\n",
              "      background-color: #E2EBFA;\n",
              "      box-shadow: 0px 1px 2px rgba(60, 64, 67, 0.3), 0px 1px 3px 1px rgba(60, 64, 67, 0.15);\n",
              "      fill: #174EA6;\n",
              "    }\n",
              "\n",
              "    [theme=dark] .colab-df-convert {\n",
              "      background-color: #3B4455;\n",
              "      fill: #D2E3FC;\n",
              "    }\n",
              "\n",
              "    [theme=dark] .colab-df-convert:hover {\n",
              "      background-color: #434B5C;\n",
              "      box-shadow: 0px 1px 3px 1px rgba(0, 0, 0, 0.15);\n",
              "      filter: drop-shadow(0px 1px 2px rgba(0, 0, 0, 0.3));\n",
              "      fill: #FFFFFF;\n",
              "    }\n",
              "  </style>\n",
              "\n",
              "      <script>\n",
              "        const buttonEl =\n",
              "          document.querySelector('#df-943da1b2-c071-4ee9-996b-5eab8bf53d62 button.colab-df-convert');\n",
              "        buttonEl.style.display =\n",
              "          google.colab.kernel.accessAllowed ? 'block' : 'none';\n",
              "\n",
              "        async function convertToInteractive(key) {\n",
              "          const element = document.querySelector('#df-943da1b2-c071-4ee9-996b-5eab8bf53d62');\n",
              "          const dataTable =\n",
              "            await google.colab.kernel.invokeFunction('convertToInteractive',\n",
              "                                                     [key], {});\n",
              "          if (!dataTable) return;\n",
              "\n",
              "          const docLinkHtml = 'Like what you see? Visit the ' +\n",
              "            '<a target=\"_blank\" href=https://colab.research.google.com/notebooks/data_table.ipynb>data table notebook</a>'\n",
              "            + ' to learn more about interactive tables.';\n",
              "          element.innerHTML = '';\n",
              "          dataTable['output_type'] = 'display_data';\n",
              "          await google.colab.output.renderOutput(dataTable, element);\n",
              "          const docLink = document.createElement('div');\n",
              "          docLink.innerHTML = docLinkHtml;\n",
              "          element.appendChild(docLink);\n",
              "        }\n",
              "      </script>\n",
              "    </div>\n",
              "  </div>\n",
              "  "
            ]
          },
          "metadata": {},
          "execution_count": 80
        }
      ]
    },
    {
      "cell_type": "markdown",
      "source": [
        "ПРобуем NLP"
      ],
      "metadata": {
        "id": "Bqj-auA1HOw1"
      }
    },
    {
      "cell_type": "code",
      "source": [
        "!pip install nltk"
      ],
      "metadata": {
        "colab": {
          "base_uri": "https://localhost:8080/"
        },
        "id": "hRvaAE85HYdP",
        "outputId": "e51c6f03-27b8-46c8-d4dc-906e6ac473b9"
      },
      "execution_count": 83,
      "outputs": [
        {
          "output_type": "stream",
          "name": "stdout",
          "text": [
            "Looking in indexes: https://pypi.org/simple, https://us-python.pkg.dev/colab-wheels/public/simple/\n",
            "Requirement already satisfied: nltk in /usr/local/lib/python3.9/dist-packages (3.7)\n",
            "Requirement already satisfied: tqdm in /usr/local/lib/python3.9/dist-packages (from nltk) (4.65.0)\n",
            "Requirement already satisfied: click in /usr/local/lib/python3.9/dist-packages (from nltk) (8.1.3)\n",
            "Requirement already satisfied: joblib in /usr/local/lib/python3.9/dist-packages (from nltk) (1.2.0)\n",
            "Requirement already satisfied: regex>=2021.8.3 in /usr/local/lib/python3.9/dist-packages (from nltk) (2022.6.2)\n"
          ]
        }
      ]
    },
    {
      "cell_type": "code",
      "source": [
        "import nltk\n",
        "from nltk.tokenize import sent_tokenize, word_tokenize\n",
        "nltk.download('punkt')\n",
        "nltk.download('stopwords')\n"
      ],
      "metadata": {
        "colab": {
          "base_uri": "https://localhost:8080/"
        },
        "id": "rtccea7JGflt",
        "outputId": "0471f1d5-5bd0-41e8-f109-00039e4c922f"
      },
      "execution_count": 94,
      "outputs": [
        {
          "output_type": "stream",
          "name": "stderr",
          "text": [
            "[nltk_data] Downloading package punkt to /root/nltk_data...\n",
            "[nltk_data]   Package punkt is already up-to-date!\n",
            "[nltk_data] Downloading package stopwords to /root/nltk_data...\n",
            "[nltk_data]   Unzipping corpora/stopwords.zip.\n"
          ]
        },
        {
          "output_type": "execute_result",
          "data": {
            "text/plain": [
              "True"
            ]
          },
          "metadata": {},
          "execution_count": 94
        }
      ]
    },
    {
      "cell_type": "code",
      "source": [
        "text = df_train_final['title'][5]\n",
        "word_tokenize(text, language=\"russian\")"
      ],
      "metadata": {
        "colab": {
          "base_uri": "https://localhost:8080/"
        },
        "id": "m6Hqv2kpHRX2",
        "outputId": "2fc59f13-d7fb-48df-b155-45263861c428"
      },
      "execution_count": 93,
      "outputs": [
        {
          "output_type": "execute_result",
          "data": {
            "text/plain": [
              "['Пижама', 'женская', 'однотонная', 'с', 'шортами']"
            ]
          },
          "metadata": {},
          "execution_count": 93
        }
      ]
    },
    {
      "cell_type": "code",
      "source": [],
      "metadata": {
        "id": "QHiXzFxhHyZ-"
      },
      "execution_count": null,
      "outputs": []
    }
  ]
}